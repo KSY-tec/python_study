{
 "cells": [
  {
   "cell_type": "markdown",
   "metadata": {
    "id": "lxat--OhPZyQ"
   },
   "source": [
    "-----------------------------------------------------------------------------\n",
    "math 함수"
   ]
  },
  {
   "cell_type": "code",
   "execution_count": null,
   "metadata": {
    "id": "TgZLGBxbYnUu"
   },
   "outputs": [],
   "source": [
    "import math"
   ]
  },
  {
   "cell_type": "code",
   "execution_count": null,
   "metadata": {
    "colab": {
     "base_uri": "https://localhost:8080/"
    },
    "executionInfo": {
     "elapsed": 312,
     "status": "ok",
     "timestamp": 1655347636218,
     "user": {
      "displayName": "김사윤",
      "userId": "07297865092634375505"
     },
     "user_tz": -540
    },
    "id": "jGk1yIGcZyUB",
    "outputId": "1423111c-0821-4b2f-a048-f21badece885"
   },
   "outputs": [
    {
     "data": {
      "text/plain": [
       "124"
      ]
     },
     "execution_count": 11,
     "metadata": {},
     "output_type": "execute_result"
    }
   ],
   "source": [
    "# 소수점 올림 함수, 정수 반환\n",
    "math.ceil(123.45)"
   ]
  },
  {
   "cell_type": "code",
   "execution_count": null,
   "metadata": {
    "colab": {
     "base_uri": "https://localhost:8080/"
    },
    "executionInfo": {
     "elapsed": 325,
     "status": "ok",
     "timestamp": 1655347756951,
     "user": {
      "displayName": "김사윤",
      "userId": "07297865092634375505"
     },
     "user_tz": -540
    },
    "id": "KRViUCUHaQP5",
    "outputId": "b213d7e3-8434-48a7-dede-f7e613f93543"
   },
   "outputs": [
    {
     "data": {
      "text/plain": [
       "-11.0"
      ]
     },
     "execution_count": 13,
     "metadata": {},
     "output_type": "execute_result"
    }
   ],
   "source": [
    "# copysign(x,y) x의 절대값에 y의 부호를 붙여서, 실수를 반환\n",
    "math.copysign(-11,-11)"
   ]
  },
  {
   "cell_type": "code",
   "execution_count": null,
   "metadata": {
    "colab": {
     "base_uri": "https://localhost:8080/"
    },
    "executionInfo": {
     "elapsed": 301,
     "status": "ok",
     "timestamp": 1655347786472,
     "user": {
      "displayName": "김사윤",
      "userId": "07297865092634375505"
     },
     "user_tz": -540
    },
    "id": "69vrngo6aooi",
    "outputId": "2f13575b-22c1-400c-ed18-d30a24a4213c"
   },
   "outputs": [
    {
     "data": {
      "text/plain": [
       "123.0"
      ]
     },
     "execution_count": 14,
     "metadata": {},
     "output_type": "execute_result"
    }
   ],
   "source": [
    "#절대값을 실수로 반환\n",
    "math.fabs(-123)"
   ]
  },
  {
   "cell_type": "code",
   "execution_count": null,
   "metadata": {
    "colab": {
     "base_uri": "https://localhost:8080/"
    },
    "executionInfo": {
     "elapsed": 299,
     "status": "ok",
     "timestamp": 1655347856032,
     "user": {
      "displayName": "김사윤",
      "userId": "07297865092634375505"
     },
     "user_tz": -540
    },
    "id": "AlzbyOlYay_I",
    "outputId": "1f324ff9-fb9d-4d06-bde6-eb8f89905545"
   },
   "outputs": [
    {
     "data": {
      "text/plain": [
       "120"
      ]
     },
     "execution_count": 15,
     "metadata": {},
     "output_type": "execute_result"
    }
   ],
   "source": [
    "#팩토리얼 반환\n",
    "math.factorial(5)"
   ]
  },
  {
   "cell_type": "code",
   "execution_count": null,
   "metadata": {
    "colab": {
     "base_uri": "https://localhost:8080/"
    },
    "executionInfo": {
     "elapsed": 299,
     "status": "ok",
     "timestamp": 1655352279320,
     "user": {
      "displayName": "김사윤",
      "userId": "07297865092634375505"
     },
     "user_tz": -540
    },
    "id": "gj4dj39Orq6r",
    "outputId": "ac54ac9d-04ba-4cd5-f07d-1a74fc53be54"
   },
   "outputs": [
    {
     "data": {
      "text/plain": [
       "7"
      ]
     },
     "execution_count": 17,
     "metadata": {},
     "output_type": "execute_result"
    }
   ],
   "source": [
    "#내림 함수, 정수 반환\n",
    "math.floor(7.89)"
   ]
  },
  {
   "cell_type": "code",
   "execution_count": null,
   "metadata": {
    "colab": {
     "base_uri": "https://localhost:8080/"
    },
    "executionInfo": {
     "elapsed": 320,
     "status": "ok",
     "timestamp": 1655352348597,
     "user": {
      "displayName": "김사윤",
      "userId": "07297865092634375505"
     },
     "user_tz": -540
    },
    "id": "SrjfB3wlr8pF",
    "outputId": "81508182-aca1-48e1-e271-44546bec5ba2"
   },
   "outputs": [
    {
     "data": {
      "text/plain": [
       "1.0"
      ]
     },
     "execution_count": 19,
     "metadata": {},
     "output_type": "execute_result"
    }
   ],
   "source": [
    "#나머지 반환 함수, 실수 반환\n",
    "math.fmod(9,2)"
   ]
  },
  {
   "cell_type": "code",
   "execution_count": null,
   "metadata": {
    "colab": {
     "base_uri": "https://localhost:8080/"
    },
    "executionInfo": {
     "elapsed": 305,
     "status": "ok",
     "timestamp": 1655352391344,
     "user": {
      "displayName": "김사윤",
      "userId": "07297865092634375505"
     },
     "user_tz": -540
    },
    "id": "nvfxwNJcr048",
    "outputId": "f99ddd54-1ec9-4c73-fad1-88efdf3ad110"
   },
   "outputs": [
    {
     "data": {
      "text/plain": [
       "(0.5, 1)"
      ]
     },
     "execution_count": 20,
     "metadata": {},
     "output_type": "execute_result"
    }
   ],
   "source": [
    "#n*2**e와 같은 값을 가지는 n과 e를 반환\n",
    "math.frexp(1)"
   ]
  },
  {
   "cell_type": "code",
   "execution_count": null,
   "metadata": {
    "colab": {
     "base_uri": "https://localhost:8080/"
    },
    "executionInfo": {
     "elapsed": 335,
     "status": "ok",
     "timestamp": 1655363945096,
     "user": {
      "displayName": "김사윤",
      "userId": "07297865092634375505"
     },
     "user_tz": -540
    },
    "id": "JC1yZX1Q8PNg",
    "outputId": "86ce8d4a-4417-4845-fedd-64626bfccea7"
   },
   "outputs": [
    {
     "data": {
      "text/plain": [
       "0.493827156"
      ]
     },
     "execution_count": 22,
     "metadata": {},
     "output_type": "execute_result"
    }
   ],
   "source": [
    "#정확한 실수 값을 반환. 인자는 리스트, 튜플, 딕셔너리 등 iterable\n",
    "math.fsum([0.123456789,0.123456789,0.123456789,0.123456789])"
   ]
  },
  {
   "cell_type": "code",
   "execution_count": null,
   "metadata": {
    "colab": {
     "base_uri": "https://localhost:8080/"
    },
    "executionInfo": {
     "elapsed": 293,
     "status": "ok",
     "timestamp": 1655364042553,
     "user": {
      "displayName": "김사윤",
      "userId": "07297865092634375505"
     },
     "user_tz": -540
    },
    "id": "oofYazxnYfck",
    "outputId": "77f4c332-1bbb-48f0-e889-cc4be3ccbfef"
   },
   "outputs": [
    {
     "data": {
      "text/plain": [
       "True"
      ]
     },
     "execution_count": 23,
     "metadata": {},
     "output_type": "execute_result"
    }
   ],
   "source": [
    "#인자가 무한대가 아니면 True, 무한대면 False 반환\n",
    "math.isfinite(3/11)"
   ]
  },
  {
   "cell_type": "code",
   "execution_count": null,
   "metadata": {
    "colab": {
     "base_uri": "https://localhost:8080/"
    },
    "executionInfo": {
     "elapsed": 296,
     "status": "ok",
     "timestamp": 1655366069194,
     "user": {
      "displayName": "김사윤",
      "userId": "07297865092634375505"
     },
     "user_tz": -540
    },
    "id": "d47WUQcqf_aZ",
    "outputId": "4cf16591-6aaa-424c-c6b9-fa0549fb4789"
   },
   "outputs": [
    {
     "data": {
      "text/plain": [
       "False"
      ]
     },
     "execution_count": 24,
     "metadata": {},
     "output_type": "execute_result"
    }
   ],
   "source": [
    "#x가 양 또는 음의 무한대이면 True를, 그렇지 않으면 False를 반환합니다.\n",
    "math.isinf(math.pi)"
   ]
  },
  {
   "cell_type": "code",
   "execution_count": null,
   "metadata": {
    "colab": {
     "base_uri": "https://localhost:8080/"
    },
    "executionInfo": {
     "elapsed": 316,
     "status": "ok",
     "timestamp": 1655366130562,
     "user": {
      "displayName": "김사윤",
      "userId": "07297865092634375505"
     },
     "user_tz": -540
    },
    "id": "6slHg9OIgd10",
    "outputId": "ff88846f-9168-497e-8d8c-7f56357f6138"
   },
   "outputs": [
    {
     "data": {
      "text/plain": [
       "False"
      ]
     },
     "execution_count": 27,
     "metadata": {},
     "output_type": "execute_result"
    }
   ],
   "source": [
    "#x가 NaN(not a number)이면 True를, 그렇지 않으면 False를 반환합니다.\n",
    "math.isnan(0)"
   ]
  },
  {
   "cell_type": "code",
   "execution_count": null,
   "metadata": {
    "colab": {
     "base_uri": "https://localhost:8080/"
    },
    "executionInfo": {
     "elapsed": 301,
     "status": "ok",
     "timestamp": 1655366231095,
     "user": {
      "displayName": "김사윤",
      "userId": "07297865092634375505"
     },
     "user_tz": -540
    },
    "id": "WcLxooGFg0eZ",
    "outputId": "1252bf12-c716-4407-9732-6c7d903635c1"
   },
   "outputs": [
    {
     "data": {
      "text/plain": [
       "1.0"
      ]
     },
     "execution_count": 29,
     "metadata": {},
     "output_type": "execute_result"
    }
   ],
   "source": [
    "#x * (2**i)를 반환합니다. 이것은 본질적으로 함수 frexp()의 역입니다.\n",
    "math.ldexp(0.5,1)"
   ]
  },
  {
   "cell_type": "code",
   "execution_count": null,
   "metadata": {
    "colab": {
     "base_uri": "https://localhost:8080/"
    },
    "executionInfo": {
     "elapsed": 293,
     "status": "ok",
     "timestamp": 1655366284736,
     "user": {
      "displayName": "김사윤",
      "userId": "07297865092634375505"
     },
     "user_tz": -540
    },
    "id": "2DLb5tQLg_O4",
    "outputId": "3b3946da-5947-43b5-a30e-da964295484b"
   },
   "outputs": [
    {
     "data": {
      "text/plain": [
       "(0.45000000000000284, 123.0)"
      ]
     },
     "execution_count": 31,
     "metadata": {},
     "output_type": "execute_result"
    }
   ],
   "source": [
    "#x의 소수와 정수 부분을 반환합니다. 두 결과 모두 x의 부호를 가지며 float입니다.\n",
    "math.modf(123.45)"
   ]
  },
  {
   "cell_type": "code",
   "execution_count": null,
   "metadata": {
    "colab": {
     "base_uri": "https://localhost:8080/"
    },
    "executionInfo": {
     "elapsed": 301,
     "status": "ok",
     "timestamp": 1655366364263,
     "user": {
      "displayName": "김사윤",
      "userId": "07297865092634375505"
     },
     "user_tz": -540
    },
    "id": "sOOinecIhP4Q",
    "outputId": "f55fd29a-57cf-424f-c649-605cb6f77a8c"
   },
   "outputs": [
    {
     "data": {
      "text/plain": [
       "123"
      ]
     },
     "execution_count": 32,
     "metadata": {},
     "output_type": "execute_result"
    }
   ],
   "source": [
    "#소수점 이하 버리고 정수만 반환\n",
    "math.trunc(123.45)"
   ]
  },
  {
   "cell_type": "code",
   "execution_count": null,
   "metadata": {
    "colab": {
     "base_uri": "https://localhost:8080/"
    },
    "executionInfo": {
     "elapsed": 292,
     "status": "ok",
     "timestamp": 1655366455204,
     "user": {
      "displayName": "김사윤",
      "userId": "07297865092634375505"
     },
     "user_tz": -540
    },
    "id": "hkpWTt8Whp9K",
    "outputId": "287a4456-299e-43e3-ac96-33537613d208"
   },
   "outputs": [
    {
     "data": {
      "text/plain": [
       "148.4131591025766"
      ]
     },
     "execution_count": 33,
     "metadata": {},
     "output_type": "execute_result"
    }
   ],
   "source": [
    "#e의 x 거듭제곱을 반환합니다. 여기서 e = 2.718281… 는 자연로그의 밑(base)입니다. 일반적으로 math.e ** x나 pow(math.e, x)보다 정확합니다.\n",
    "math.exp(5)"
   ]
  },
  {
   "cell_type": "code",
   "execution_count": null,
   "metadata": {
    "colab": {
     "base_uri": "https://localhost:8080/"
    },
    "executionInfo": {
     "elapsed": 319,
     "status": "ok",
     "timestamp": 1655366545256,
     "user": {
      "displayName": "김사윤",
      "userId": "07297865092634375505"
     },
     "user_tz": -540
    },
    "id": "lpznSNyah_ob",
    "outputId": "b476bb69-1d9b-45e4-ab73-0531dc74532c"
   },
   "outputs": [
    {
     "data": {
      "text/plain": [
       "147.4131591025766"
      ]
     },
     "execution_count": 34,
     "metadata": {},
     "output_type": "execute_result"
    }
   ],
   "source": [
    "# exp함수에서 1뺀 값\n",
    "math.expm1(5)"
   ]
  },
  {
   "cell_type": "code",
   "execution_count": null,
   "metadata": {
    "colab": {
     "base_uri": "https://localhost:8080/"
    },
    "executionInfo": {
     "elapsed": 299,
     "status": "ok",
     "timestamp": 1655446818520,
     "user": {
      "displayName": "김사윤",
      "userId": "07297865092634375505"
     },
     "user_tz": -540
    },
    "id": "8Dm1cUdCiPZY",
    "outputId": "42ea3246-4df5-4710-b8e7-ad2d7c589939"
   },
   "outputs": [
    {
     "data": {
      "text/plain": [
       "2.302585092994046"
      ]
     },
     "execution_count": 3,
     "metadata": {},
     "output_type": "execute_result"
    }
   ],
   "source": [
    "#로그값을 반환. 인자가 하나면 자연로그를 취한 값, 두개면 두번째 값이 밑\n",
    "math.log(10)"
   ]
  },
  {
   "cell_type": "code",
   "execution_count": null,
   "metadata": {
    "colab": {
     "base_uri": "https://localhost:8080/"
    },
    "executionInfo": {
     "elapsed": 314,
     "status": "ok",
     "timestamp": 1655446927900,
     "user": {
      "displayName": "김사윤",
      "userId": "07297865092634375505"
     },
     "user_tz": -540
    },
    "id": "TfgC3IsdUpHb",
    "outputId": "42155e6c-eacd-4268-b63b-b7d9e9a3a2e6"
   },
   "outputs": [
    {
     "data": {
      "text/plain": [
       "2.3978952727983707"
      ]
     },
     "execution_count": 4,
     "metadata": {},
     "output_type": "execute_result"
    }
   ],
   "source": [
    "#1+x의 자연로그값을 실수로 반환\n",
    "math.log1p(10)"
   ]
  },
  {
   "cell_type": "code",
   "execution_count": null,
   "metadata": {
    "colab": {
     "base_uri": "https://localhost:8080/"
    },
    "executionInfo": {
     "elapsed": 307,
     "status": "ok",
     "timestamp": 1655446976140,
     "user": {
      "displayName": "김사윤",
      "userId": "07297865092634375505"
     },
     "user_tz": -540
    },
    "id": "kI70hRn0U5xi",
    "outputId": "488df283-e735-465e-c2d3-a703cc16932a"
   },
   "outputs": [
    {
     "data": {
      "text/plain": [
       "3.321928094887362"
      ]
     },
     "execution_count": 5,
     "metadata": {},
     "output_type": "execute_result"
    }
   ],
   "source": [
    "#밑이 2인 로그값을 실수로 반환\n",
    "math.log2(10)"
   ]
  },
  {
   "cell_type": "code",
   "execution_count": null,
   "metadata": {
    "colab": {
     "base_uri": "https://localhost:8080/"
    },
    "executionInfo": {
     "elapsed": 339,
     "status": "ok",
     "timestamp": 1655446994545,
     "user": {
      "displayName": "김사윤",
      "userId": "07297865092634375505"
     },
     "user_tz": -540
    },
    "id": "8w8W3kqqVFpt",
    "outputId": "e070994a-a81d-4db2-d69d-f28b12823979"
   },
   "outputs": [
    {
     "data": {
      "text/plain": [
       "1.0"
      ]
     },
     "execution_count": 6,
     "metadata": {},
     "output_type": "execute_result"
    }
   ],
   "source": [
    "#밑이 10인 로그값을 실수로 반환\n",
    "math.log10(10)"
   ]
  },
  {
   "cell_type": "code",
   "execution_count": null,
   "metadata": {
    "colab": {
     "base_uri": "https://localhost:8080/"
    },
    "executionInfo": {
     "elapsed": 314,
     "status": "ok",
     "timestamp": 1655447048746,
     "user": {
      "displayName": "김사윤",
      "userId": "07297865092634375505"
     },
     "user_tz": -540
    },
    "id": "ZAxeCEmEVL2M",
    "outputId": "f90f6ade-e775-480e-b9e4-677c7601205e"
   },
   "outputs": [
    {
     "data": {
      "text/plain": [
       "8.0"
      ]
     },
     "execution_count": 8,
     "metadata": {},
     "output_type": "execute_result"
    }
   ],
   "source": [
    "#x의 y제곱을 실수값으로 반환\n",
    "math.pow(2, 3)"
   ]
  },
  {
   "cell_type": "code",
   "execution_count": null,
   "metadata": {
    "colab": {
     "base_uri": "https://localhost:8080/"
    },
    "executionInfo": {
     "elapsed": 485,
     "status": "ok",
     "timestamp": 1655447095221,
     "user": {
      "displayName": "김사윤",
      "userId": "07297865092634375505"
     },
     "user_tz": -540
    },
    "id": "kwG2yMHzVbWh",
    "outputId": "aadabb04-f6b1-44aa-94a8-f7ae22780134"
   },
   "outputs": [
    {
     "data": {
      "text/plain": [
       "2.0"
      ]
     },
     "execution_count": 10,
     "metadata": {},
     "output_type": "execute_result"
    }
   ],
   "source": [
    "#제곱근을 실수로 반환\n",
    "math.sqrt(4)"
   ]
  },
  {
   "cell_type": "code",
   "execution_count": null,
   "metadata": {
    "colab": {
     "base_uri": "https://localhost:8080/"
    },
    "executionInfo": {
     "elapsed": 308,
     "status": "ok",
     "timestamp": 1655897277276,
     "user": {
      "displayName": "김사윤",
      "userId": "07297865092634375505"
     },
     "user_tz": -540
    },
    "id": "R7-wxUQ7KDGA",
    "outputId": "f7ddcc22-6031-423c-8785-f2a20bc9fb4d"
   },
   "outputs": [
    {
     "data": {
      "text/plain": [
       "1.0471975511965979"
      ]
     },
     "execution_count": 4,
     "metadata": {},
     "output_type": "execute_result"
    }
   ],
   "source": [
    "#x의 아크 코사인(arc cosine)을 라디안으로 반환합니다. 결과는 0과 pi 사이입니다.\n",
    "math.acos(0.5)"
   ]
  },
  {
   "cell_type": "code",
   "execution_count": null,
   "metadata": {
    "colab": {
     "base_uri": "https://localhost:8080/"
    },
    "executionInfo": {
     "elapsed": 331,
     "status": "ok",
     "timestamp": 1655897357671,
     "user": {
      "displayName": "김사윤",
      "userId": "07297865092634375505"
     },
     "user_tz": -540
    },
    "id": "HdlV61lzK89k",
    "outputId": "a8db3417-d572-41bf-cca4-e5dc09e86b12"
   },
   "outputs": [
    {
     "data": {
      "text/plain": [
       "0.4636476090008061"
      ]
     },
     "execution_count": 5,
     "metadata": {},
     "output_type": "execute_result"
    }
   ],
   "source": [
    "#x의 아크 사인(arc sine)을 라디안으로 반환합니다. 결과는 -pi/2와 pi/2 사이입니다.\n",
    "math.atan(0.5)"
   ]
  },
  {
   "cell_type": "code",
   "execution_count": null,
   "metadata": {
    "colab": {
     "base_uri": "https://localhost:8080/"
    },
    "executionInfo": {
     "elapsed": 383,
     "status": "ok",
     "timestamp": 1655897387763,
     "user": {
      "displayName": "김사윤",
      "userId": "07297865092634375505"
     },
     "user_tz": -540
    },
    "id": "iYJrJ6OWLKlz",
    "outputId": "1c7553f3-cde7-4722-a0a3-589ee54ffe83"
   },
   "outputs": [
    {
     "data": {
      "text/plain": [
       "0.4636476090008061"
      ]
     },
     "execution_count": 6,
     "metadata": {},
     "output_type": "execute_result"
    }
   ],
   "source": [
    "#x의 아크 탄젠트(arc tangent)를 라디안으로 반환합니다. 결과는 -pi/2와 pi/2 사이입니다.\n",
    "math.atan(0.5)"
   ]
  },
  {
   "cell_type": "code",
   "execution_count": null,
   "metadata": {
    "colab": {
     "base_uri": "https://localhost:8080/"
    },
    "executionInfo": {
     "elapsed": 303,
     "status": "ok",
     "timestamp": 1655897452375,
     "user": {
      "displayName": "김사윤",
      "userId": "07297865092634375505"
     },
     "user_tz": -540
    },
    "id": "7vjBjQBGLbSx",
    "outputId": "7a724ded-2de5-4935-c283-caab2c5407fe"
   },
   "outputs": [
    {
     "data": {
      "text/plain": [
       "0.7853981633974483"
      ]
     },
     "execution_count": 7,
     "metadata": {},
     "output_type": "execute_result"
    }
   ],
   "source": [
    "#atan(y / x)를 라디안으로 반환합니다. 결과는 -pi와 pi 사이입니다.\n",
    "math.atan2(0.5,0.5)"
   ]
  },
  {
   "cell_type": "code",
   "execution_count": null,
   "metadata": {
    "colab": {
     "base_uri": "https://localhost:8080/"
    },
    "executionInfo": {
     "elapsed": 405,
     "status": "ok",
     "timestamp": 1655897529904,
     "user": {
      "displayName": "김사윤",
      "userId": "07297865092634375505"
     },
     "user_tz": -540
    },
    "id": "uGDL6OZ_LiCj",
    "outputId": "4c5dacab-e576-4c17-8fe6-1635f8b5ab18"
   },
   "outputs": [
    {
     "data": {
      "text/plain": [
       "-0.8390715290764524"
      ]
     },
     "execution_count": 8,
     "metadata": {},
     "output_type": "execute_result"
    }
   ],
   "source": [
    "#x 라디안의 코사인(cosine)을 반환합니다.\n",
    "math.cos(10)"
   ]
  },
  {
   "cell_type": "code",
   "execution_count": null,
   "metadata": {
    "colab": {
     "base_uri": "https://localhost:8080/"
    },
    "executionInfo": {
     "elapsed": 677,
     "status": "ok",
     "timestamp": 1655897565841,
     "user": {
      "displayName": "김사윤",
      "userId": "07297865092634375505"
     },
     "user_tz": -540
    },
    "id": "5s43JIhdL2jZ",
    "outputId": "0121af05-5d71-43e3-f818-089e9ae27edf"
   },
   "outputs": [
    {
     "data": {
      "text/plain": [
       "7.0710678118654755"
      ]
     },
     "execution_count": 9,
     "metadata": {},
     "output_type": "execute_result"
    }
   ],
   "source": [
    "#유클리드 크기(norm) sqrt(sum(x**2 for x in coordinates))를 반환합니다. 원점에서 coordinates로 지정된 점까지의 벡터의 길이입니다. 2차원 점 (x, y)의 경우, 피타고라스 정리를 사용하여 직각 삼각형의 빗변(hypotenuse)을 계산하는 것과 동등합니다\n",
    "math.hypot(5,5)"
   ]
  },
  {
   "cell_type": "code",
   "execution_count": null,
   "metadata": {
    "colab": {
     "base_uri": "https://localhost:8080/"
    },
    "executionInfo": {
     "elapsed": 427,
     "status": "ok",
     "timestamp": 1655897704723,
     "user": {
      "displayName": "김사윤",
      "userId": "07297865092634375505"
     },
     "user_tz": -540
    },
    "id": "UM2NYNCmMYoh",
    "outputId": "cb6dc35d-52cc-420a-c588-bc2cf8577eba"
   },
   "outputs": [
    {
     "data": {
      "text/plain": [
       "-0.5440211108893698"
      ]
     },
     "execution_count": 10,
     "metadata": {},
     "output_type": "execute_result"
    }
   ],
   "source": [
    "#사인을 반환\n",
    "math.sin(10)"
   ]
  },
  {
   "cell_type": "code",
   "execution_count": null,
   "metadata": {
    "colab": {
     "base_uri": "https://localhost:8080/"
    },
    "executionInfo": {
     "elapsed": 302,
     "status": "ok",
     "timestamp": 1655897738382,
     "user": {
      "displayName": "김사윤",
      "userId": "07297865092634375505"
     },
     "user_tz": -540
    },
    "id": "pkHVn9wkMiDv",
    "outputId": "4a6f3632-b103-459e-dc84-cdd5b06bad8b"
   },
   "outputs": [
    {
     "data": {
      "text/plain": [
       "0.6483608274590866"
      ]
     },
     "execution_count": 11,
     "metadata": {},
     "output_type": "execute_result"
    }
   ],
   "source": [
    "#탄젠트 값을 반환\n",
    "math.tan(10)"
   ]
  },
  {
   "cell_type": "code",
   "execution_count": null,
   "metadata": {
    "colab": {
     "base_uri": "https://localhost:8080/"
    },
    "executionInfo": {
     "elapsed": 338,
     "status": "ok",
     "timestamp": 1655897843479,
     "user": {
      "displayName": "김사윤",
      "userId": "07297865092634375505"
     },
     "user_tz": -540
    },
    "id": "fZcaX3C8MoL0",
    "outputId": "33fed822-b7ad-4045-b3cc-c26cfdcdc905"
   },
   "outputs": [
    {
     "data": {
      "text/plain": [
       "57.29577951308232"
      ]
     },
     "execution_count": 15,
     "metadata": {},
     "output_type": "execute_result"
    }
   ],
   "source": [
    "#라디안을 각도로 변환\n",
    "math.degrees(1)"
   ]
  },
  {
   "cell_type": "code",
   "execution_count": null,
   "metadata": {
    "colab": {
     "base_uri": "https://localhost:8080/"
    },
    "executionInfo": {
     "elapsed": 366,
     "status": "ok",
     "timestamp": 1655897883075,
     "user": {
      "displayName": "김사윤",
      "userId": "07297865092634375505"
     },
     "user_tz": -540
    },
    "id": "Pv2JLtXrM7zT",
    "outputId": "2f80a171-7051-4187-e82f-bc1f6ab43342"
   },
   "outputs": [
    {
     "data": {
      "text/plain": [
       "1.0471975511965976"
      ]
     },
     "execution_count": 17,
     "metadata": {},
     "output_type": "execute_result"
    }
   ],
   "source": [
    "#각도를 라디안으로 변환\n",
    "math.radians(60)"
   ]
  },
  {
   "cell_type": "code",
   "execution_count": null,
   "metadata": {
    "colab": {
     "base_uri": "https://localhost:8080/"
    },
    "executionInfo": {
     "elapsed": 304,
     "status": "ok",
     "timestamp": 1655897913658,
     "user": {
      "displayName": "김사윤",
      "userId": "07297865092634375505"
     },
     "user_tz": -540
    },
    "id": "3p0xXmUbNJ1O",
    "outputId": "4aa70c6b-00cb-4602-b0c9-7d0b47dfcd03"
   },
   "outputs": [
    {
     "data": {
      "text/plain": [
       "2.993222846126381"
      ]
     },
     "execution_count": 18,
     "metadata": {},
     "output_type": "execute_result"
    }
   ],
   "source": [
    "#x의 역 쌍곡 코사인(inverse hyperbolic cosine)을 반환합니다.\n",
    "math.acosh(10)"
   ]
  },
  {
   "cell_type": "code",
   "execution_count": null,
   "metadata": {
    "colab": {
     "base_uri": "https://localhost:8080/"
    },
    "executionInfo": {
     "elapsed": 368,
     "status": "ok",
     "timestamp": 1655898052439,
     "user": {
      "displayName": "김사윤",
      "userId": "07297865092634375505"
     },
     "user_tz": -540
    },
    "id": "JKfGGxOgNTsP",
    "outputId": "98090adc-0635-46dc-d8e9-b939f2828451"
   },
   "outputs": [
    {
     "data": {
      "text/plain": [
       "0.48121182505960347"
      ]
     },
     "execution_count": 25,
     "metadata": {},
     "output_type": "execute_result"
    }
   ],
   "source": [
    "#x의 역 쌍곡 사인(inverse hyperbolic sine)을 반환합니다.\n",
    "math.asinh(0.5)"
   ]
  },
  {
   "cell_type": "code",
   "execution_count": null,
   "metadata": {
    "colab": {
     "base_uri": "https://localhost:8080/"
    },
    "executionInfo": {
     "elapsed": 310,
     "status": "ok",
     "timestamp": 1655898036067,
     "user": {
      "displayName": "김사윤",
      "userId": "07297865092634375505"
     },
     "user_tz": -540
    },
    "id": "o7WOVW9oNhxG",
    "outputId": "c26c37f8-8c84-493f-8512-74618ed157b1"
   },
   "outputs": [
    {
     "data": {
      "text/plain": [
       "0.5493061443340548"
      ]
     },
     "execution_count": 24,
     "metadata": {},
     "output_type": "execute_result"
    }
   ],
   "source": [
    "#x의 역 쌍곡 탄젠트(inverse hyperbolic tangent)를 반환합니다.\n",
    "math.atanh(0.5)"
   ]
  },
  {
   "cell_type": "code",
   "execution_count": null,
   "metadata": {
    "colab": {
     "base_uri": "https://localhost:8080/"
    },
    "executionInfo": {
     "elapsed": 357,
     "status": "ok",
     "timestamp": 1655898072752,
     "user": {
      "displayName": "김사윤",
      "userId": "07297865092634375505"
     },
     "user_tz": -540
    },
    "id": "JqvKdcRuNvNF",
    "outputId": "0f6f5c39-b949-4fd8-9e49-bc1de8d94367"
   },
   "outputs": [
    {
     "data": {
      "text/plain": [
       "1.1276259652063807"
      ]
     },
     "execution_count": 26,
     "metadata": {},
     "output_type": "execute_result"
    }
   ],
   "source": [
    "#x의 쌍곡 코사인(hyperbolic cosine)을 반환합니다.\n",
    "math.cosh(0.5)"
   ]
  },
  {
   "cell_type": "code",
   "execution_count": null,
   "metadata": {
    "colab": {
     "base_uri": "https://localhost:8080/"
    },
    "executionInfo": {
     "elapsed": 280,
     "status": "ok",
     "timestamp": 1655898097011,
     "user": {
      "displayName": "김사윤",
      "userId": "07297865092634375505"
     },
     "user_tz": -540
    },
    "id": "hl8E_CglN6Gk",
    "outputId": "3e5c4daf-3b6a-4474-8abb-c5f2e76ae5ce"
   },
   "outputs": [
    {
     "data": {
      "text/plain": [
       "0.5210953054937474"
      ]
     },
     "execution_count": 27,
     "metadata": {},
     "output_type": "execute_result"
    }
   ],
   "source": [
    "#x의 쌍곡 사인(hyperbolic sine)을 반환합니다.\n",
    "math.sinh(0.5)"
   ]
  },
  {
   "cell_type": "code",
   "execution_count": null,
   "metadata": {
    "colab": {
     "base_uri": "https://localhost:8080/"
    },
    "executionInfo": {
     "elapsed": 324,
     "status": "ok",
     "timestamp": 1655898130381,
     "user": {
      "displayName": "김사윤",
      "userId": "07297865092634375505"
     },
     "user_tz": -540
    },
    "id": "ClcFhTjZOBgk",
    "outputId": "4a57b51b-ca67-4075-c93f-8b52c9b4af83"
   },
   "outputs": [
    {
     "data": {
      "text/plain": [
       "0.04995837495787998"
      ]
     },
     "execution_count": 28,
     "metadata": {},
     "output_type": "execute_result"
    }
   ],
   "source": [
    "#x의 쌍곡 탄젠트(hyperbolic tangent)를 반환합니다.\n",
    "math.tanh(0.05)"
   ]
  },
  {
   "cell_type": "code",
   "execution_count": null,
   "metadata": {
    "colab": {
     "base_uri": "https://localhost:8080/"
    },
    "executionInfo": {
     "elapsed": 299,
     "status": "ok",
     "timestamp": 1655898161600,
     "user": {
      "displayName": "김사윤",
      "userId": "07297865092634375505"
     },
     "user_tz": -540
    },
    "id": "ARt-anghOJrD",
    "outputId": "539240dd-7caf-45c9-9b70-c18650e3b2f5"
   },
   "outputs": [
    {
     "data": {
      "text/plain": [
       "1.0"
      ]
     },
     "execution_count": 29,
     "metadata": {},
     "output_type": "execute_result"
    }
   ],
   "source": [
    "#x의 오차 함수(error function)를 반환합니다.\n",
    "math.erf(10)"
   ]
  },
  {
   "cell_type": "code",
   "execution_count": null,
   "metadata": {
    "colab": {
     "base_uri": "https://localhost:8080/"
    },
    "executionInfo": {
     "elapsed": 332,
     "status": "ok",
     "timestamp": 1655898228894,
     "user": {
      "displayName": "김사윤",
      "userId": "07297865092634375505"
     },
     "user_tz": -540
    },
    "id": "lRvS3gJUOaGj",
    "outputId": "5147da57-9326-4826-db45-539d8386a4f4"
   },
   "outputs": [
    {
     "data": {
      "text/plain": [
       "2.088487583762545e-45"
      ]
     },
     "execution_count": 30,
     "metadata": {},
     "output_type": "execute_result"
    }
   ],
   "source": [
    "#x의 여오차 함수를 반환합니다. 여오차 함수(complementary error function)는 1.0 - erf(x)로 정의됩니다. 뺄셈으로 인해 유효 숫자의 소실이 발생하는 x의 큰 값에 사용됩니다.\n",
    "math.erfc(10)"
   ]
  },
  {
   "cell_type": "code",
   "execution_count": null,
   "metadata": {
    "colab": {
     "base_uri": "https://localhost:8080/"
    },
    "executionInfo": {
     "elapsed": 411,
     "status": "ok",
     "timestamp": 1655898266256,
     "user": {
      "displayName": "김사윤",
      "userId": "07297865092634375505"
     },
     "user_tz": -540
    },
    "id": "l5NI0NdHOjDu",
    "outputId": "2baae1ad-5f11-4311-dd48-7437f0821fc8"
   },
   "outputs": [
    {
     "data": {
      "text/plain": [
       "362880.0"
      ]
     },
     "execution_count": 32,
     "metadata": {},
     "output_type": "execute_result"
    }
   ],
   "source": [
    "#x의 감마 함수(Gamma function)를 반환합니다.\n",
    "math.gamma(10)"
   ]
  },
  {
   "cell_type": "code",
   "execution_count": null,
   "metadata": {
    "colab": {
     "base_uri": "https://localhost:8080/"
    },
    "executionInfo": {
     "elapsed": 282,
     "status": "ok",
     "timestamp": 1655898316913,
     "user": {
      "displayName": "김사윤",
      "userId": "07297865092634375505"
     },
     "user_tz": -540
    },
    "id": "-clw-7GGOsGM",
    "outputId": "067db42d-a3b7-45db-9e20-a769f92e00e8"
   },
   "outputs": [
    {
     "data": {
      "text/plain": [
       "12.801827480081467"
      ]
     },
     "execution_count": 34,
     "metadata": {},
     "output_type": "execute_result"
    }
   ],
   "source": [
    "#x의 감마 함수의 절댓값의 자연로그를 반환합니다.\n",
    "math.lgamma(10)"
   ]
  },
  {
   "cell_type": "code",
   "execution_count": null,
   "metadata": {
    "colab": {
     "base_uri": "https://localhost:8080/"
    },
    "executionInfo": {
     "elapsed": 277,
     "status": "ok",
     "timestamp": 1655898361042,
     "user": {
      "displayName": "김사윤",
      "userId": "07297865092634375505"
     },
     "user_tz": -540
    },
    "id": "GOfVp5WNO43C",
    "outputId": "daeba1ac-e806-4dad-c22f-55dcff67617f"
   },
   "outputs": [
    {
     "data": {
      "text/plain": [
       "3.141592653589793"
      ]
     },
     "execution_count": 36,
     "metadata": {},
     "output_type": "execute_result"
    }
   ],
   "source": [
    "#원주율, 파이값\n",
    "math.pi"
   ]
  },
  {
   "cell_type": "code",
   "execution_count": null,
   "metadata": {
    "colab": {
     "base_uri": "https://localhost:8080/"
    },
    "executionInfo": {
     "elapsed": 311,
     "status": "ok",
     "timestamp": 1655898386065,
     "user": {
      "displayName": "김사윤",
      "userId": "07297865092634375505"
     },
     "user_tz": -540
    },
    "id": "L2StQTpfPAUD",
    "outputId": "71e6ee58-52cd-4cfc-998d-6678931772fd"
   },
   "outputs": [
    {
     "data": {
      "text/plain": [
       "2.718281828459045"
      ]
     },
     "execution_count": 37,
     "metadata": {},
     "output_type": "execute_result"
    }
   ],
   "source": [
    "#자연상수 e 값\n",
    "math.e"
   ]
  },
  {
   "cell_type": "markdown",
   "metadata": {
    "id": "h6bMZL_jPTU0"
   },
   "source": [
    "---------------------------------------------------\n",
    "랜덤함수"
   ]
  },
  {
   "cell_type": "code",
   "execution_count": null,
   "metadata": {
    "id": "PtRUQiEiPe7k"
   },
   "outputs": [],
   "source": [
    "import random"
   ]
  },
  {
   "cell_type": "code",
   "execution_count": null,
   "metadata": {
    "id": "_e-TTAZcPlrn"
   },
   "outputs": [],
   "source": [
    "#난수 생성기를 초기화\n",
    "random.seed()"
   ]
  },
  {
   "cell_type": "code",
   "execution_count": null,
   "metadata": {
    "colab": {
     "base_uri": "https://localhost:8080/"
    },
    "executionInfo": {
     "elapsed": 338,
     "status": "ok",
     "timestamp": 1655899062964,
     "user": {
      "displayName": "김사윤",
      "userId": "07297865092634375505"
     },
     "user_tz": -540
    },
    "id": "nwgBaY_0RMzh",
    "outputId": "6add733c-476b-432c-f9dd-3f7678a3823c"
   },
   "outputs": [
    {
     "data": {
      "text/plain": [
       "(3,\n",
       " (2147483648,\n",
       "  282886227,\n",
       "  4067524543,\n",
       "  1721651621,\n",
       "  1387022353,\n",
       "  1450181481,\n",
       "  2710491417,\n",
       "  3834772555,\n",
       "  880382225,\n",
       "  2189306815,\n",
       "  3377975600,\n",
       "  3012142006,\n",
       "  1559737190,\n",
       "  3904610444,\n",
       "  2688835781,\n",
       "  260074191,\n",
       "  133057357,\n",
       "  1777307102,\n",
       "  1262173025,\n",
       "  3189348376,\n",
       "  2622957538,\n",
       "  4209608261,\n",
       "  3721678058,\n",
       "  3467417608,\n",
       "  1486594900,\n",
       "  358291330,\n",
       "  1434714518,\n",
       "  306803783,\n",
       "  3983703492,\n",
       "  3061153365,\n",
       "  349787778,\n",
       "  3674794783,\n",
       "  3474974002,\n",
       "  3587866849,\n",
       "  2010374466,\n",
       "  1680315018,\n",
       "  241685293,\n",
       "  798620166,\n",
       "  2215392054,\n",
       "  2137948442,\n",
       "  738113090,\n",
       "  1097805141,\n",
       "  2112482062,\n",
       "  4289461605,\n",
       "  482288694,\n",
       "  1524154210,\n",
       "  104712660,\n",
       "  526180106,\n",
       "  400936999,\n",
       "  978892400,\n",
       "  3944777625,\n",
       "  4018749728,\n",
       "  1222763718,\n",
       "  4256005722,\n",
       "  2227591632,\n",
       "  2282325179,\n",
       "  1874124436,\n",
       "  3495087054,\n",
       "  2557675770,\n",
       "  844680139,\n",
       "  2789487849,\n",
       "  3337982207,\n",
       "  856802485,\n",
       "  1102664340,\n",
       "  2249827609,\n",
       "  737806814,\n",
       "  117296711,\n",
       "  1170966637,\n",
       "  3513480091,\n",
       "  2293568913,\n",
       "  2440384206,\n",
       "  3361001770,\n",
       "  1497941783,\n",
       "  3981645817,\n",
       "  2795353212,\n",
       "  3465224593,\n",
       "  1058512686,\n",
       "  2429546504,\n",
       "  3714573057,\n",
       "  2756049824,\n",
       "  799964530,\n",
       "  911551838,\n",
       "  725473106,\n",
       "  3886494665,\n",
       "  2746148363,\n",
       "  2083699719,\n",
       "  2327329546,\n",
       "  618913781,\n",
       "  73630508,\n",
       "  3570288550,\n",
       "  2677436526,\n",
       "  4109129382,\n",
       "  2225959725,\n",
       "  3855201138,\n",
       "  3937654281,\n",
       "  2357360625,\n",
       "  2825789397,\n",
       "  3376556593,\n",
       "  3342747745,\n",
       "  2483079337,\n",
       "  1815339945,\n",
       "  4222355992,\n",
       "  2835638662,\n",
       "  1758015203,\n",
       "  1499802790,\n",
       "  1050870071,\n",
       "  3354363317,\n",
       "  1739409949,\n",
       "  2298435657,\n",
       "  4457731,\n",
       "  2554175477,\n",
       "  1113333431,\n",
       "  1308872047,\n",
       "  396396226,\n",
       "  486357794,\n",
       "  984526428,\n",
       "  678796843,\n",
       "  4284517667,\n",
       "  3072003490,\n",
       "  551835466,\n",
       "  4157101949,\n",
       "  3048446646,\n",
       "  2162797776,\n",
       "  2074601503,\n",
       "  1958860311,\n",
       "  4148009241,\n",
       "  783763885,\n",
       "  2457711462,\n",
       "  3727929333,\n",
       "  4132256591,\n",
       "  178895526,\n",
       "  2203922849,\n",
       "  3511351277,\n",
       "  616955121,\n",
       "  3136138403,\n",
       "  2618580222,\n",
       "  1516465496,\n",
       "  2170691381,\n",
       "  2538099265,\n",
       "  1572087046,\n",
       "  2869313382,\n",
       "  1072275518,\n",
       "  884326513,\n",
       "  1437773045,\n",
       "  436033337,\n",
       "  825321236,\n",
       "  3881638136,\n",
       "  1685808342,\n",
       "  2024009515,\n",
       "  1932934568,\n",
       "  1624710682,\n",
       "  3976596083,\n",
       "  2259410684,\n",
       "  1040468115,\n",
       "  24546215,\n",
       "  3432891171,\n",
       "  3153960771,\n",
       "  396121451,\n",
       "  1881543761,\n",
       "  323108616,\n",
       "  3285480100,\n",
       "  887411916,\n",
       "  3404948516,\n",
       "  2988295256,\n",
       "  3314154841,\n",
       "  1688376017,\n",
       "  1258010503,\n",
       "  2471411667,\n",
       "  2367648513,\n",
       "  4147184099,\n",
       "  3292940431,\n",
       "  3796673522,\n",
       "  4149955126,\n",
       "  3508892272,\n",
       "  3721265393,\n",
       "  1553653968,\n",
       "  2531289516,\n",
       "  1105809034,\n",
       "  90086243,\n",
       "  370663375,\n",
       "  405563261,\n",
       "  2291323300,\n",
       "  2889964968,\n",
       "  1677997157,\n",
       "  795370037,\n",
       "  4219425973,\n",
       "  922963467,\n",
       "  2460820478,\n",
       "  3441975741,\n",
       "  506463790,\n",
       "  2614948963,\n",
       "  436158639,\n",
       "  3918385116,\n",
       "  698203631,\n",
       "  1487041781,\n",
       "  1102196890,\n",
       "  1563105688,\n",
       "  1205237226,\n",
       "  618441279,\n",
       "  384767895,\n",
       "  485138309,\n",
       "  4292515707,\n",
       "  727520805,\n",
       "  2172837934,\n",
       "  1952897446,\n",
       "  1375738180,\n",
       "  2207789085,\n",
       "  1684392015,\n",
       "  449942367,\n",
       "  1535747171,\n",
       "  2099507836,\n",
       "  2674746957,\n",
       "  381460104,\n",
       "  1429267785,\n",
       "  904156170,\n",
       "  3085266611,\n",
       "  431162230,\n",
       "  3733519961,\n",
       "  2552535684,\n",
       "  931492091,\n",
       "  1892532599,\n",
       "  2649104525,\n",
       "  2135469833,\n",
       "  1521709593,\n",
       "  266420684,\n",
       "  3166485237,\n",
       "  861952733,\n",
       "  1141084277,\n",
       "  684567274,\n",
       "  2226703821,\n",
       "  3047056072,\n",
       "  740095765,\n",
       "  2288096689,\n",
       "  2135453302,\n",
       "  680836227,\n",
       "  503838440,\n",
       "  3360188325,\n",
       "  1774973424,\n",
       "  1530648302,\n",
       "  2588556052,\n",
       "  3641130871,\n",
       "  2166287799,\n",
       "  2191805932,\n",
       "  756961396,\n",
       "  4292817771,\n",
       "  704902946,\n",
       "  1384585459,\n",
       "  2373704925,\n",
       "  1200704106,\n",
       "  2753692526,\n",
       "  2690792602,\n",
       "  1330427637,\n",
       "  2457445732,\n",
       "  609348262,\n",
       "  1139608786,\n",
       "  1811238715,\n",
       "  1847190491,\n",
       "  2688280086,\n",
       "  194562338,\n",
       "  1388745431,\n",
       "  1170863763,\n",
       "  2516794144,\n",
       "  4272284055,\n",
       "  1400880527,\n",
       "  3746904663,\n",
       "  3076195136,\n",
       "  1616325402,\n",
       "  831523161,\n",
       "  125147681,\n",
       "  4164501589,\n",
       "  499881607,\n",
       "  1437529107,\n",
       "  125703499,\n",
       "  3089398325,\n",
       "  3117412489,\n",
       "  1919755598,\n",
       "  491599230,\n",
       "  3345599200,\n",
       "  862705625,\n",
       "  4090108814,\n",
       "  3268792123,\n",
       "  3204985067,\n",
       "  2938065582,\n",
       "  1119278694,\n",
       "  1236126094,\n",
       "  1107669297,\n",
       "  3668525396,\n",
       "  2985856290,\n",
       "  1621632286,\n",
       "  289546205,\n",
       "  4096386851,\n",
       "  14371098,\n",
       "  2970345622,\n",
       "  3492160303,\n",
       "  61613953,\n",
       "  3765044364,\n",
       "  3493224902,\n",
       "  1890129624,\n",
       "  2190252344,\n",
       "  3029628217,\n",
       "  2475398061,\n",
       "  2267301858,\n",
       "  3110630290,\n",
       "  2941962279,\n",
       "  2833192889,\n",
       "  3997440722,\n",
       "  1565679721,\n",
       "  1122313016,\n",
       "  3422708579,\n",
       "  501684360,\n",
       "  1457467482,\n",
       "  2478071236,\n",
       "  2897834984,\n",
       "  3091552042,\n",
       "  358525050,\n",
       "  1041690403,\n",
       "  2846991169,\n",
       "  365343196,\n",
       "  1539128512,\n",
       "  2400640666,\n",
       "  2097429510,\n",
       "  2044396261,\n",
       "  2480106247,\n",
       "  2800684135,\n",
       "  4057159548,\n",
       "  3421502334,\n",
       "  2945417155,\n",
       "  3737756605,\n",
       "  3308246512,\n",
       "  263222300,\n",
       "  749914717,\n",
       "  2020295875,\n",
       "  2702557811,\n",
       "  3622116153,\n",
       "  1059501808,\n",
       "  1482519266,\n",
       "  805688880,\n",
       "  1311310008,\n",
       "  2419625332,\n",
       "  932767152,\n",
       "  259928451,\n",
       "  1376492385,\n",
       "  1013580309,\n",
       "  2901022532,\n",
       "  1052866392,\n",
       "  3946736951,\n",
       "  2392020921,\n",
       "  3885563091,\n",
       "  1851624446,\n",
       "  1514595525,\n",
       "  2972218706,\n",
       "  258160894,\n",
       "  2566116043,\n",
       "  2449930435,\n",
       "  1783531067,\n",
       "  2546108213,\n",
       "  3758434883,\n",
       "  1713631024,\n",
       "  2098472281,\n",
       "  1678270849,\n",
       "  2476364315,\n",
       "  4197739439,\n",
       "  3655170521,\n",
       "  3344235853,\n",
       "  2646405397,\n",
       "  3732516290,\n",
       "  2442314503,\n",
       "  576524748,\n",
       "  2359060643,\n",
       "  126729574,\n",
       "  2896996431,\n",
       "  931366188,\n",
       "  976908526,\n",
       "  1520082191,\n",
       "  4045401001,\n",
       "  598381595,\n",
       "  3020937733,\n",
       "  2061705857,\n",
       "  3824521782,\n",
       "  2146526482,\n",
       "  786525870,\n",
       "  4116089890,\n",
       "  2052681651,\n",
       "  2082384971,\n",
       "  4048269411,\n",
       "  2869989042,\n",
       "  384803301,\n",
       "  1591212266,\n",
       "  2331059249,\n",
       "  259813278,\n",
       "  3419861072,\n",
       "  1834685010,\n",
       "  2180754140,\n",
       "  314638760,\n",
       "  650981740,\n",
       "  686634478,\n",
       "  1554017219,\n",
       "  1366919928,\n",
       "  4263200729,\n",
       "  965893773,\n",
       "  3261145122,\n",
       "  2634334806,\n",
       "  1602878506,\n",
       "  2813429621,\n",
       "  3542347113,\n",
       "  585552049,\n",
       "  3836436374,\n",
       "  1022298162,\n",
       "  2268280588,\n",
       "  4119162159,\n",
       "  3754916629,\n",
       "  2373249304,\n",
       "  4257787159,\n",
       "  2460669480,\n",
       "  2389041025,\n",
       "  962664204,\n",
       "  1492236227,\n",
       "  3609458119,\n",
       "  4175793730,\n",
       "  2544510417,\n",
       "  3206969487,\n",
       "  3685465714,\n",
       "  1996002855,\n",
       "  2115891815,\n",
       "  2318086700,\n",
       "  252562589,\n",
       "  4013840084,\n",
       "  1324133118,\n",
       "  1169259645,\n",
       "  1655651991,\n",
       "  446707329,\n",
       "  2128050899,\n",
       "  2189105526,\n",
       "  1360521924,\n",
       "  1859799177,\n",
       "  4100889654,\n",
       "  2188822818,\n",
       "  3378727652,\n",
       "  3539933779,\n",
       "  1502091697,\n",
       "  1179256640,\n",
       "  2681003525,\n",
       "  1511401468,\n",
       "  926319712,\n",
       "  849148076,\n",
       "  135491861,\n",
       "  3255611653,\n",
       "  3773876178,\n",
       "  275707217,\n",
       "  2477306353,\n",
       "  960223618,\n",
       "  2196236905,\n",
       "  740249291,\n",
       "  1008325553,\n",
       "  2915871623,\n",
       "  3396110104,\n",
       "  4163277110,\n",
       "  2226228282,\n",
       "  675367724,\n",
       "  3774349813,\n",
       "  661979407,\n",
       "  2767456196,\n",
       "  3597711949,\n",
       "  539657531,\n",
       "  3802196824,\n",
       "  2995834488,\n",
       "  1054492225,\n",
       "  1430292435,\n",
       "  3445736034,\n",
       "  2673312695,\n",
       "  2863249786,\n",
       "  311365467,\n",
       "  716057424,\n",
       "  845199027,\n",
       "  3935585520,\n",
       "  396933132,\n",
       "  23251260,\n",
       "  3044418828,\n",
       "  2448624725,\n",
       "  1361308028,\n",
       "  1776975002,\n",
       "  2271473943,\n",
       "  33767552,\n",
       "  2342731247,\n",
       "  3450661753,\n",
       "  4259342150,\n",
       "  1097036599,\n",
       "  1996950908,\n",
       "  486819080,\n",
       "  1617377182,\n",
       "  2571361753,\n",
       "  4088957166,\n",
       "  1757453852,\n",
       "  1631291530,\n",
       "  1226801411,\n",
       "  38598750,\n",
       "  2745939135,\n",
       "  3795329282,\n",
       "  2560653532,\n",
       "  311965251,\n",
       "  314039917,\n",
       "  1449288991,\n",
       "  3193205031,\n",
       "  405603771,\n",
       "  1232303099,\n",
       "  3102089852,\n",
       "  241190152,\n",
       "  1202628458,\n",
       "  1246683434,\n",
       "  3845059979,\n",
       "  3446236638,\n",
       "  3689769537,\n",
       "  428725603,\n",
       "  3533251854,\n",
       "  336867877,\n",
       "  4223891852,\n",
       "  1273307380,\n",
       "  670561041,\n",
       "  4069703976,\n",
       "  3972358658,\n",
       "  4225301820,\n",
       "  4264964883,\n",
       "  912224047,\n",
       "  2429046075,\n",
       "  1003821969,\n",
       "  3090286625,\n",
       "  1148243774,\n",
       "  3767534334,\n",
       "  3224236740,\n",
       "  75300612,\n",
       "  1379369949,\n",
       "  4085132516,\n",
       "  3356865053,\n",
       "  123480582,\n",
       "  2789025018,\n",
       "  1817397073,\n",
       "  2399732409,\n",
       "  3648036306,\n",
       "  1663037755,\n",
       "  850566955,\n",
       "  3677456515,\n",
       "  3617213166,\n",
       "  1878279578,\n",
       "  1659676055,\n",
       "  1311642868,\n",
       "  3072534875,\n",
       "  1754690012,\n",
       "  2292490522,\n",
       "  2046214182,\n",
       "  3825826608,\n",
       "  3938438203,\n",
       "  4218635037,\n",
       "  196155723,\n",
       "  422501648,\n",
       "  2035830825,\n",
       "  2291747352,\n",
       "  3908720145,\n",
       "  2279884391,\n",
       "  274258334,\n",
       "  658671703,\n",
       "  3382215348,\n",
       "  1004077855,\n",
       "  1688618908,\n",
       "  1486421567,\n",
       "  4105589213,\n",
       "  900738967,\n",
       "  431407065,\n",
       "  3217677280,\n",
       "  2292651110,\n",
       "  2844659183,\n",
       "  3668010769,\n",
       "  4046930754,\n",
       "  2612947717,\n",
       "  3276468028,\n",
       "  3778754981,\n",
       "  1738370360,\n",
       "  43109563,\n",
       "  1671684380,\n",
       "  1898931468,\n",
       "  469646155,\n",
       "  1767101157,\n",
       "  1147153793,\n",
       "  2194602963,\n",
       "  1717307421,\n",
       "  2277743785,\n",
       "  3087145411,\n",
       "  2454852661,\n",
       "  1439726066,\n",
       "  597508442,\n",
       "  4016606587,\n",
       "  3483652834,\n",
       "  2942304151,\n",
       "  4114417909,\n",
       "  3762007729,\n",
       "  239532179,\n",
       "  334838874,\n",
       "  1384677144,\n",
       "  1868405660,\n",
       "  2631509,\n",
       "  3151725433,\n",
       "  3333740656,\n",
       "  2915771756,\n",
       "  2225069337,\n",
       "  652849902,\n",
       "  1364571006,\n",
       "  626070095,\n",
       "  1492828989,\n",
       "  1057865975,\n",
       "  1727919558,\n",
       "  423240293,\n",
       "  3122440164,\n",
       "  674841225,\n",
       "  3209539361,\n",
       "  2259525226,\n",
       "  118230904,\n",
       "  3072690049,\n",
       "  548986747,\n",
       "  2357561298,\n",
       "  3504045225,\n",
       "  343557547,\n",
       "  2478653098,\n",
       "  911958675,\n",
       "  4010669188,\n",
       "  1816449445,\n",
       "  624),\n",
       " None)"
      ]
     },
     "execution_count": 44,
     "metadata": {},
     "output_type": "execute_result"
    }
   ],
   "source": [
    "#생성기의 현재 내부 상태를 포착하는 객체를 반환합니다. 이 객체는 setstate()로 전달되어 상태를 복원 할 수 있습니다.\n",
    "random.getstate()"
   ]
  },
  {
   "cell_type": "code",
   "execution_count": null,
   "metadata": {
    "id": "7jOl2KTTRsaO"
   },
   "outputs": [],
   "source": [
    "#state는 getstate()에 대한 이전 호출에서 얻은 것이어야 하고, setstate()는 생성기의 내부 상태를 getstate()가 호출될 당시의 상태로 복원합니다.\n",
    "random.setstate(random.getstate())"
   ]
  },
  {
   "cell_type": "code",
   "execution_count": null,
   "metadata": {
    "colab": {
     "base_uri": "https://localhost:8080/"
    },
    "executionInfo": {
     "elapsed": 23,
     "status": "ok",
     "timestamp": 1655899227689,
     "user": {
      "displayName": "김사윤",
      "userId": "07297865092634375505"
     },
     "user_tz": -540
    },
    "id": "phEdjB9ISB7c",
    "outputId": "acddc6a1-679a-47e5-dd51-2990ca4e83dd"
   },
   "outputs": [
    {
     "data": {
      "text/plain": [
       "30"
      ]
     },
     "execution_count": 56,
     "metadata": {},
     "output_type": "execute_result"
    }
   ],
   "source": [
    "#k비트 크기의 임의의 정수 반환\n",
    "random.getrandbits(5)"
   ]
  },
  {
   "cell_type": "code",
   "execution_count": null,
   "metadata": {
    "colab": {
     "base_uri": "https://localhost:8080/"
    },
    "executionInfo": {
     "elapsed": 295,
     "status": "ok",
     "timestamp": 1655899468739,
     "user": {
      "displayName": "김사윤",
      "userId": "07297865092634375505"
     },
     "user_tz": -540
    },
    "id": "PBropn2cSSun",
    "outputId": "6a508e2c-f3bb-438b-88a8-227a5c02f9f6"
   },
   "outputs": [
    {
     "name": "stdout",
     "output_type": "stream",
     "text": [
      "1\n",
      "16\n",
      "4\n"
     ]
    }
   ],
   "source": [
    "#범위값 내의 임의의 정수 반환. 인자를 하나만 주면 1부터 해당값까지 범위에서, 인자를 두개 주면 해당 값 범위 안에서, 인자를 주면 세번째 인자 값 만큼 건너 뛴 값을 반환\n",
    "print(random.randrange(10))\n",
    "print(random.randrange(10,20))\n",
    "print(random.randrange(1,10,3))"
   ]
  },
  {
   "cell_type": "code",
   "execution_count": null,
   "metadata": {
    "colab": {
     "base_uri": "https://localhost:8080/"
    },
    "executionInfo": {
     "elapsed": 422,
     "status": "ok",
     "timestamp": 1655899629530,
     "user": {
      "displayName": "김사윤",
      "userId": "07297865092634375505"
     },
     "user_tz": -540
    },
    "id": "9ITex_PtTt5e",
    "outputId": "67bef934-b9ac-4eb2-c325-d625a9246b58"
   },
   "outputs": [
    {
     "data": {
      "text/plain": [
       "5"
      ]
     },
     "execution_count": 75,
     "metadata": {},
     "output_type": "execute_result"
    }
   ],
   "source": [
    "#인자값 두개 범위 내 범위의 임의의 정수값 반환\n",
    "random.randint(1,10)"
   ]
  },
  {
   "cell_type": "code",
   "execution_count": null,
   "metadata": {
    "colab": {
     "base_uri": "https://localhost:8080/",
     "height": 36
    },
    "executionInfo": {
     "elapsed": 17,
     "status": "ok",
     "timestamp": 1655900291122,
     "user": {
      "displayName": "김사윤",
      "userId": "07297865092634375505"
     },
     "user_tz": -540
    },
    "id": "gQIyZ_mhUNQN",
    "outputId": "2037f5d9-8d6a-4934-87c1-2fbdce38ff32"
   },
   "outputs": [
    {
     "data": {
      "application/vnd.google.colaboratory.intrinsic+json": {
       "type": "string"
      },
      "text/plain": [
       "'A'"
      ]
     },
     "execution_count": 84,
     "metadata": {},
     "output_type": "execute_result"
    }
   ],
   "source": [
    "#여러개의 값을 가진 리스트 등에서 값을 임의로 반환\n",
    "random.choice([\"A\",5,10])"
   ]
  },
  {
   "cell_type": "code",
   "execution_count": null,
   "metadata": {
    "colab": {
     "base_uri": "https://localhost:8080/"
    },
    "executionInfo": {
     "elapsed": 856,
     "status": "ok",
     "timestamp": 1655900434892,
     "user": {
      "displayName": "김사윤",
      "userId": "07297865092634375505"
     },
     "user_tz": -540
    },
    "id": "7VnSmw5EWXQY",
    "outputId": "f909d514-c04a-4357-ed65-301aefcee8dc"
   },
   "outputs": [
    {
     "data": {
      "text/plain": [
       "[10, 'A', 5]"
      ]
     },
     "execution_count": 92,
     "metadata": {},
     "output_type": "execute_result"
    }
   ],
   "source": [
    "#리스트의 아이템 순서를 임의로 섞음\n",
    "a=[\"A\",5,10]\n",
    "random.shuffle(a)\n",
    "a"
   ]
  },
  {
   "cell_type": "code",
   "execution_count": null,
   "metadata": {
    "colab": {
     "base_uri": "https://localhost:8080/"
    },
    "executionInfo": {
     "elapsed": 372,
     "status": "ok",
     "timestamp": 1655900657296,
     "user": {
      "displayName": "김사윤",
      "userId": "07297865092634375505"
     },
     "user_tz": -540
    },
    "id": "xupsHORQXSXL",
    "outputId": "a6b42795-b9d3-448b-dc9c-b814a2587c3e"
   },
   "outputs": [
    {
     "data": {
      "text/plain": [
       "['A', 5]"
      ]
     },
     "execution_count": 95,
     "metadata": {},
     "output_type": "execute_result"
    }
   ],
   "source": [
    "#여러개의 값을 가진 리스트 등에서 아이템을 두번쨰 인자 만큼의 갯수 반환\n",
    "random.sample([\"A\",5,10],2)"
   ]
  },
  {
   "cell_type": "code",
   "execution_count": null,
   "metadata": {
    "colab": {
     "base_uri": "https://localhost:8080/"
    },
    "executionInfo": {
     "elapsed": 294,
     "status": "ok",
     "timestamp": 1655900724564,
     "user": {
      "displayName": "김사윤",
      "userId": "07297865092634375505"
     },
     "user_tz": -540
    },
    "id": "I805uU6LXvrH",
    "outputId": "db51f3c6-6d7b-4c34-d9fe-531964a72271"
   },
   "outputs": [
    {
     "data": {
      "text/plain": [
       "0.8081911777182972"
      ]
     },
     "execution_count": 97,
     "metadata": {},
     "output_type": "execute_result"
    }
   ],
   "source": [
    "#0~1 사이 임의의 실수 반환\n",
    "random.random()"
   ]
  },
  {
   "cell_type": "code",
   "execution_count": null,
   "metadata": {
    "colab": {
     "base_uri": "https://localhost:8080/"
    },
    "executionInfo": {
     "elapsed": 277,
     "status": "ok",
     "timestamp": 1655900792543,
     "user": {
      "displayName": "김사윤",
      "userId": "07297865092634375505"
     },
     "user_tz": -540
    },
    "id": "1Lqoi-R7YI-m",
    "outputId": "400826be-8607-4687-a2df-2927750a7426"
   },
   "outputs": [
    {
     "data": {
      "text/plain": [
       "2.824967657715467"
      ]
     },
     "execution_count": 98,
     "metadata": {},
     "output_type": "execute_result"
    }
   ],
   "source": [
    "#두 숫자 범위 사이 실수값 반환\n",
    "random.uniform(2,3)"
   ]
  },
  {
   "cell_type": "code",
   "execution_count": null,
   "metadata": {
    "colab": {
     "base_uri": "https://localhost:8080/"
    },
    "executionInfo": {
     "elapsed": 296,
     "status": "ok",
     "timestamp": 1655901033044,
     "user": {
      "displayName": "김사윤",
      "userId": "07297865092634375505"
     },
     "user_tz": -540
    },
    "id": "AWVuOfjUYfQQ",
    "outputId": "a304cb47-27c5-4406-91c5-7baee3ad30fd"
   },
   "outputs": [
    {
     "data": {
      "text/plain": [
       "4.342221097764947"
      ]
     },
     "execution_count": 113,
     "metadata": {},
     "output_type": "execute_result"
    }
   ],
   "source": [
    "#두 범위 사이의 임의의 실수를 반환. 세번째 인자는 최빈값. 최빈값에 가중치를 두고 임의의 실수를 반환\n",
    "random.triangular(2,3,3)"
   ]
  },
  {
   "cell_type": "code",
   "execution_count": null,
   "metadata": {
    "colab": {
     "base_uri": "https://localhost:8080/"
    },
    "executionInfo": {
     "elapsed": 299,
     "status": "ok",
     "timestamp": 1655901180878,
     "user": {
      "displayName": "김사윤",
      "userId": "07297865092634375505"
     },
     "user_tz": -540
    },
    "id": "aTxlrQtnZcIp",
    "outputId": "6facfcab-6979-4095-8703-18c24b08435f"
   },
   "outputs": [
    {
     "data": {
      "text/plain": [
       "0.2027374352796338"
      ]
     },
     "execution_count": 116,
     "metadata": {},
     "output_type": "execute_result"
    }
   ],
   "source": [
    "#베타 분포. 매개 변수의 조건은 alpha > 0과 beta > 0입니다. 반환된 값의 범위는 0에서 1입니다.\n",
    "random.betavariate(10,20)"
   ]
  },
  {
   "cell_type": "code",
   "execution_count": null,
   "metadata": {
    "colab": {
     "base_uri": "https://localhost:8080/"
    },
    "executionInfo": {
     "elapsed": 484,
     "status": "ok",
     "timestamp": 1655901265079,
     "user": {
      "displayName": "김사윤",
      "userId": "07297865092634375505"
     },
     "user_tz": -540
    },
    "id": "zEosmOpTZ2iX",
    "outputId": "c2f84158-d73a-4bed-944e-c05d64659df6"
   },
   "outputs": [
    {
     "data": {
      "text/plain": [
       "0.5356677311601322"
      ]
     },
     "execution_count": 118,
     "metadata": {},
     "output_type": "execute_result"
    }
   ],
   "source": [
    "#지수 분포. lambd는 1.0을 원하는 평균으로 나눈 값입니다. 0이 아니어야 합니다\n",
    "random.expovariate(1)"
   ]
  },
  {
   "cell_type": "code",
   "execution_count": null,
   "metadata": {
    "colab": {
     "base_uri": "https://localhost:8080/"
    },
    "executionInfo": {
     "elapsed": 300,
     "status": "ok",
     "timestamp": 1655901325857,
     "user": {
      "displayName": "김사윤",
      "userId": "07297865092634375505"
     },
     "user_tz": -540
    },
    "id": "hLNvTA7raLA7",
    "outputId": "750b329b-0249-4010-977c-6671b2bb74e8"
   },
   "outputs": [
    {
     "data": {
      "text/plain": [
       "151.4161091665696"
      ]
     },
     "execution_count": 120,
     "metadata": {},
     "output_type": "execute_result"
    }
   ],
   "source": [
    "#감마 분포. 매개 변수의 조건은 alpha > 0과 beta > 0입니다.\n",
    "random.gammavariate(10,20)"
   ]
  },
  {
   "cell_type": "code",
   "execution_count": null,
   "metadata": {
    "colab": {
     "base_uri": "https://localhost:8080/"
    },
    "executionInfo": {
     "elapsed": 389,
     "status": "ok",
     "timestamp": 1655901451079,
     "user": {
      "displayName": "김사윤",
      "userId": "07297865092634375505"
     },
     "user_tz": -540
    },
    "id": "hs3YbYQeaYEC",
    "outputId": "87be53f6-bf02-48ad-e354-5e03d7e236ba"
   },
   "outputs": [
    {
     "data": {
      "text/plain": [
       "0.1405639419975413"
      ]
     },
     "execution_count": 124,
     "metadata": {},
     "output_type": "execute_result"
    }
   ],
   "source": [
    "#인자를 평균, 표준편차로 가지는 표준정규분포에서 임의의 값을 생성\n",
    "random.gauss(0,1)"
   ]
  },
  {
   "cell_type": "code",
   "execution_count": null,
   "metadata": {
    "colab": {
     "base_uri": "https://localhost:8080/"
    },
    "executionInfo": {
     "elapsed": 412,
     "status": "ok",
     "timestamp": 1655901531211,
     "user": {
      "displayName": "김사윤",
      "userId": "07297865092634375505"
     },
     "user_tz": -540
    },
    "id": "ULf1r-l4a_QK",
    "outputId": "83af76c7-0cd4-4dc2-af6d-9139bfdf4aba"
   },
   "outputs": [
    {
     "data": {
      "text/plain": [
       "0.7905364684186369"
      ]
     },
     "execution_count": 125,
     "metadata": {},
     "output_type": "execute_result"
    }
   ],
   "source": [
    "#인자를 평균, 표준편차로 가지는 로그정규분포에서 임의의 값을 생성\n",
    "random.lognormvariate(0,1)"
   ]
  },
  {
   "cell_type": "code",
   "execution_count": null,
   "metadata": {
    "colab": {
     "base_uri": "https://localhost:8080/"
    },
    "executionInfo": {
     "elapsed": 337,
     "status": "ok",
     "timestamp": 1655901603799,
     "user": {
      "displayName": "김사윤",
      "userId": "07297865092634375505"
     },
     "user_tz": -540
    },
    "id": "Cn4jFzdybQ50",
    "outputId": "e8effb6a-d54b-4ffc-b3f9-0dca696d0bbb"
   },
   "outputs": [
    {
     "data": {
      "text/plain": [
       "0.5658998297825715"
      ]
     },
     "execution_count": 126,
     "metadata": {},
     "output_type": "execute_result"
    }
   ],
   "source": [
    "#인자를 평균, 표준편차로 가지는 정규분포에서 임의의 값을 생성\n",
    "random.normalvariate(0,1)"
   ]
  },
  {
   "cell_type": "code",
   "execution_count": null,
   "metadata": {
    "colab": {
     "base_uri": "https://localhost:8080/"
    },
    "executionInfo": {
     "elapsed": 370,
     "status": "ok",
     "timestamp": 1655901685409,
     "user": {
      "displayName": "김사윤",
      "userId": "07297865092634375505"
     },
     "user_tz": -540
    },
    "id": "NF07zpoQbj5k",
    "outputId": "05b48c5d-db9a-4c8c-d8f9-9cf47e5160c0"
   },
   "outputs": [
    {
     "data": {
      "text/plain": [
       "0.8779913808612374"
      ]
     },
     "execution_count": 127,
     "metadata": {},
     "output_type": "execute_result"
    }
   ],
   "source": [
    "#mu는 0과 2*pi 사이의 라디안으로 표현된 평균 각도이며, kappa는 0 이상이어야 하는 집중도(concentration) 매개 변수입니다. kappa가 0이면, 이 분포는 0에서 2*pi에 걸친 균등한 임의의 각도로 환원됩니다.\n",
    "random.vonmisesvariate(0,1)"
   ]
  },
  {
   "cell_type": "code",
   "execution_count": null,
   "metadata": {
    "colab": {
     "base_uri": "https://localhost:8080/"
    },
    "executionInfo": {
     "elapsed": 348,
     "status": "ok",
     "timestamp": 1655901709384,
     "user": {
      "displayName": "김사윤",
      "userId": "07297865092634375505"
     },
     "user_tz": -540
    },
    "id": "VUQcxcLWbpfK",
    "outputId": "cba34283-e080-4e12-f4bf-10530e5e3b3c"
   },
   "outputs": [
    {
     "data": {
      "text/plain": [
       "1.0362312365257245"
      ]
     },
     "execution_count": 128,
     "metadata": {},
     "output_type": "execute_result"
    }
   ],
   "source": [
    "#파레토 분포. alpha는 모양(shape) 매개 변수입니다.\n",
    "random.paretovariate(10)"
   ]
  },
  {
   "cell_type": "code",
   "execution_count": null,
   "metadata": {
    "colab": {
     "base_uri": "https://localhost:8080/"
    },
    "executionInfo": {
     "elapsed": 311,
     "status": "ok",
     "timestamp": 1655901742963,
     "user": {
      "displayName": "김사윤",
      "userId": "07297865092634375505"
     },
     "user_tz": -540
    },
    "id": "fOLwMFpjby6H",
    "outputId": "bafc3848-884f-4c4a-8df9-1c3738ab88e7"
   },
   "outputs": [
    {
     "data": {
      "text/plain": [
       "7.212577545292108"
      ]
     },
     "execution_count": 129,
     "metadata": {},
     "output_type": "execute_result"
    }
   ],
   "source": [
    "#베이불 분포. alpha는 크기(scale) 매개 변수이고 beta는 모양(shape) 매개 변수입니다.\n",
    "random.weibullvariate(10,20)"
   ]
  },
  {
   "cell_type": "markdown",
   "metadata": {
    "id": "X_ucypH5cO3i"
   },
   "source": [
    "------------------------------------------------------------------------------\n",
    "list"
   ]
  },
  {
   "cell_type": "code",
   "execution_count": null,
   "metadata": {
    "id": "EVswql0dcTYo"
   },
   "outputs": [],
   "source": [
    "a=[1,2,3]"
   ]
  },
  {
   "cell_type": "code",
   "execution_count": null,
   "metadata": {
    "colab": {
     "base_uri": "https://localhost:8080/"
    },
    "executionInfo": {
     "elapsed": 9,
     "status": "ok",
     "timestamp": 1655902032575,
     "user": {
      "displayName": "김사윤",
      "userId": "07297865092634375505"
     },
     "user_tz": -540
    },
    "id": "6XJq6VdWcYKt",
    "outputId": "c983e555-c1d9-4672-8ff0-80b2a14958ad"
   },
   "outputs": [
    {
     "data": {
      "text/plain": [
       "[1, 2, 3, [4, 5, 6]]"
      ]
     },
     "execution_count": 139,
     "metadata": {},
     "output_type": "execute_result"
    }
   ],
   "source": [
    "#리스트 마지막에 아이템을 추가\n",
    "a.append([4,5,6])\n",
    "a"
   ]
  },
  {
   "cell_type": "code",
   "execution_count": null,
   "metadata": {
    "colab": {
     "base_uri": "https://localhost:8080/"
    },
    "executionInfo": {
     "elapsed": 666,
     "status": "ok",
     "timestamp": 1655902035852,
     "user": {
      "displayName": "김사윤",
      "userId": "07297865092634375505"
     },
     "user_tz": -540
    },
    "id": "a8_gd9jhcuYF",
    "outputId": "0217512f-7cc2-46e8-e425-eee9de8c59be"
   },
   "outputs": [
    {
     "data": {
      "text/plain": [
       "[1, 2, 3, [4, 5, 6], 3, 4, 5]"
      ]
     },
     "execution_count": 140,
     "metadata": {},
     "output_type": "execute_result"
    }
   ],
   "source": [
    "#리스트에 다른 리스트를 합침\n",
    "a.extend([3,4,5])\n",
    "a"
   ]
  },
  {
   "cell_type": "code",
   "execution_count": null,
   "metadata": {
    "id": "PZBTz0QPdYgI"
   },
   "outputs": [],
   "source": [
    "#지정한 인덱스 위치에 아이템을 추가\n",
    "a.insert(3,[7,8])"
   ]
  },
  {
   "cell_type": "code",
   "execution_count": null,
   "metadata": {
    "colab": {
     "base_uri": "https://localhost:8080/"
    },
    "executionInfo": {
     "elapsed": 309,
     "status": "ok",
     "timestamp": 1655902187826,
     "user": {
      "displayName": "김사윤",
      "userId": "07297865092634375505"
     },
     "user_tz": -540
    },
    "id": "h_C5pRGmdiOw",
    "outputId": "2a9c3ea9-d90f-4207-9c87-dd5548794b12"
   },
   "outputs": [
    {
     "data": {
      "text/plain": [
       "[1, 2, 3, [7, 8], [4, 5, 6], 3, 4, 5]"
      ]
     },
     "execution_count": 143,
     "metadata": {},
     "output_type": "execute_result"
    }
   ],
   "source": [
    "a"
   ]
  },
  {
   "cell_type": "code",
   "execution_count": null,
   "metadata": {
    "colab": {
     "base_uri": "https://localhost:8080/"
    },
    "executionInfo": {
     "elapsed": 303,
     "status": "ok",
     "timestamp": 1655902255376,
     "user": {
      "displayName": "김사윤",
      "userId": "07297865092634375505"
     },
     "user_tz": -540
    },
    "id": "uNaZzr3WdsEL",
    "outputId": "e7fad53b-f76e-49a4-ccf6-6269e33de6f2"
   },
   "outputs": [
    {
     "data": {
      "text/plain": [
       "[1, 2, [7, 8], [4, 5, 6], 3, 4, 5]"
      ]
     },
     "execution_count": 144,
     "metadata": {},
     "output_type": "execute_result"
    }
   ],
   "source": [
    "#해당 값을 리스트에서 삭제\n",
    "a.remove(3)\n",
    "a"
   ]
  },
  {
   "cell_type": "code",
   "execution_count": null,
   "metadata": {
    "colab": {
     "base_uri": "https://localhost:8080/"
    },
    "executionInfo": {
     "elapsed": 424,
     "status": "ok",
     "timestamp": 1655902329733,
     "user": {
      "displayName": "김사윤",
      "userId": "07297865092634375505"
     },
     "user_tz": -540
    },
    "id": "-b1ZOqBteAeS",
    "outputId": "6c4008ad-73b1-4380-8e40-422bb7438db8"
   },
   "outputs": [
    {
     "data": {
      "text/plain": [
       "[4, 5, 6]"
      ]
     },
     "execution_count": 145,
     "metadata": {},
     "output_type": "execute_result"
    }
   ],
   "source": [
    "#해당 인덱스 위치의 값을 리스트에서 삭제하고 반환\n",
    "a.pop(3)"
   ]
  },
  {
   "cell_type": "code",
   "execution_count": null,
   "metadata": {
    "colab": {
     "base_uri": "https://localhost:8080/"
    },
    "executionInfo": {
     "elapsed": 374,
     "status": "ok",
     "timestamp": 1655902372320,
     "user": {
      "displayName": "김사윤",
      "userId": "07297865092634375505"
     },
     "user_tz": -540
    },
    "id": "cMv7GaQoeNpM",
    "outputId": "84a4f3d4-555d-4009-cf66-b4413c1328d2"
   },
   "outputs": [
    {
     "data": {
      "text/plain": [
       "[1, 2, [7, 8], 3, 4, 5]"
      ]
     },
     "execution_count": 146,
     "metadata": {},
     "output_type": "execute_result"
    }
   ],
   "source": [
    "a"
   ]
  },
  {
   "cell_type": "code",
   "execution_count": null,
   "metadata": {
    "colab": {
     "base_uri": "https://localhost:8080/"
    },
    "executionInfo": {
     "elapsed": 303,
     "status": "ok",
     "timestamp": 1655902392391,
     "user": {
      "displayName": "김사윤",
      "userId": "07297865092634375505"
     },
     "user_tz": -540
    },
    "id": "BqKu36GNeQiq",
    "outputId": "10a6012f-6381-4a34-a25f-f265a19f826a"
   },
   "outputs": [
    {
     "data": {
      "text/plain": [
       "[]"
      ]
     },
     "execution_count": 149,
     "metadata": {},
     "output_type": "execute_result"
    }
   ],
   "source": [
    "#리스트에서 모든 값을 삭제\n",
    "a.clear()\n",
    "a"
   ]
  },
  {
   "cell_type": "code",
   "execution_count": null,
   "metadata": {
    "colab": {
     "base_uri": "https://localhost:8080/"
    },
    "executionInfo": {
     "elapsed": 499,
     "status": "ok",
     "timestamp": 1655902457323,
     "user": {
      "displayName": "김사윤",
      "userId": "07297865092634375505"
     },
     "user_tz": -540
    },
    "id": "TzOPQv3neX3Z",
    "outputId": "2166c2b8-2d79-4269-f151-5e2921428ef5"
   },
   "outputs": [
    {
     "data": {
      "text/plain": [
       "3"
      ]
     },
     "execution_count": 150,
     "metadata": {},
     "output_type": "execute_result"
    }
   ],
   "source": [
    "#해당되는 값과 일치하는 값이 있는 위치의 인덱스 반환(여러개일 시 0에서부터 만난 가장 처음 값만 반환)\n",
    "a=[1,2,3,4,3,4,3,4]\n",
    "a.index(4)"
   ]
  },
  {
   "cell_type": "code",
   "execution_count": null,
   "metadata": {
    "colab": {
     "base_uri": "https://localhost:8080/"
    },
    "executionInfo": {
     "elapsed": 441,
     "status": "ok",
     "timestamp": 1655902614598,
     "user": {
      "displayName": "김사윤",
      "userId": "07297865092634375505"
     },
     "user_tz": -540
    },
    "id": "_UactpznfEJu",
    "outputId": "3d886de0-c0db-4520-f106-3194531a7172"
   },
   "outputs": [
    {
     "data": {
      "text/plain": [
       "3"
      ]
     },
     "execution_count": 151,
     "metadata": {},
     "output_type": "execute_result"
    }
   ],
   "source": [
    "#리스트 안에 포함된 해당 값의 갯수를 반환 \n",
    "a.count(3)"
   ]
  },
  {
   "cell_type": "code",
   "execution_count": null,
   "metadata": {
    "colab": {
     "base_uri": "https://localhost:8080/"
    },
    "executionInfo": {
     "elapsed": 283,
     "status": "ok",
     "timestamp": 1655902672533,
     "user": {
      "displayName": "김사윤",
      "userId": "07297865092634375505"
     },
     "user_tz": -540
    },
    "id": "Q6MFz-ZufTT6",
    "outputId": "6e5caac0-fc84-445b-ef15-6ed5159f743b"
   },
   "outputs": [
    {
     "data": {
      "text/plain": [
       "[1, 2, 3, 3, 3, 4, 4, 4]"
      ]
     },
     "execution_count": 154,
     "metadata": {},
     "output_type": "execute_result"
    }
   ],
   "source": [
    "#리스트 안의 값들을 오름차순으로 정렬\n",
    "a.sort()\n",
    "a"
   ]
  },
  {
   "cell_type": "code",
   "execution_count": null,
   "metadata": {
    "colab": {
     "base_uri": "https://localhost:8080/"
    },
    "executionInfo": {
     "elapsed": 414,
     "status": "ok",
     "timestamp": 1655902696328,
     "user": {
      "displayName": "김사윤",
      "userId": "07297865092634375505"
     },
     "user_tz": -540
    },
    "id": "CtOhTp_PfcZx",
    "outputId": "c0783fe0-a48d-42ff-c90d-19d3287c4b0e"
   },
   "outputs": [
    {
     "data": {
      "text/plain": [
       "[4, 4, 4, 3, 3, 3, 2, 1]"
      ]
     },
     "execution_count": 155,
     "metadata": {},
     "output_type": "execute_result"
    }
   ],
   "source": [
    "#리스트 안의 값을 내림차순으로 정렬\n",
    "a.reverse()\n",
    "a"
   ]
  },
  {
   "cell_type": "code",
   "execution_count": null,
   "metadata": {
    "colab": {
     "base_uri": "https://localhost:8080/"
    },
    "executionInfo": {
     "elapsed": 298,
     "status": "ok",
     "timestamp": 1655902822480,
     "user": {
      "displayName": "김사윤",
      "userId": "07297865092634375505"
     },
     "user_tz": -540
    },
    "id": "mv1XDjTJfkE_",
    "outputId": "2b482116-c51c-42b6-e1e1-4c7f4d0ff370"
   },
   "outputs": [
    {
     "name": "stdout",
     "output_type": "stream",
     "text": [
      "[1, 2, 3, 3, 3, 4, 4, 4]\n",
      "[4, 4, 4, 3, 3, 3, 2, 1]\n"
     ]
    }
   ],
   "source": [
    "#리스트를 카피(참조x)\n",
    "b=a.copy()\n",
    "a.sort()\n",
    "print(a)\n",
    "print(b)"
   ]
  },
  {
   "cell_type": "markdown",
   "metadata": {
    "id": "Oju8_Ooxiz3Z"
   },
   "source": [
    "------------------------------------------------------------------------------\n",
    "set"
   ]
  },
  {
   "cell_type": "code",
   "execution_count": null,
   "metadata": {
    "id": "Z12jwTOzi5So"
   },
   "outputs": [],
   "source": [
    "a={1,2,3}"
   ]
  },
  {
   "cell_type": "code",
   "execution_count": null,
   "metadata": {
    "colab": {
     "base_uri": "https://localhost:8080/"
    },
    "executionInfo": {
     "elapsed": 317,
     "status": "ok",
     "timestamp": 1655903670254,
     "user": {
      "displayName": "김사윤",
      "userId": "07297865092634375505"
     },
     "user_tz": -540
    },
    "id": "e88Od9Dpi8tN",
    "outputId": "2b390ee2-f23d-4274-adb7-5fe30011933e"
   },
   "outputs": [
    {
     "data": {
      "text/plain": [
       "True"
      ]
     },
     "execution_count": 164,
     "metadata": {},
     "output_type": "execute_result"
    }
   ],
   "source": [
    "#안에 값이 모두 True거나 비어있으면 True를 반환\n",
    "all(a)"
   ]
  },
  {
   "cell_type": "code",
   "execution_count": null,
   "metadata": {
    "id": "BCF2sN3KjNsm"
   },
   "outputs": [],
   "source": [
    "a={1,2,3,False}"
   ]
  },
  {
   "cell_type": "code",
   "execution_count": null,
   "metadata": {
    "colab": {
     "base_uri": "https://localhost:8080/"
    },
    "executionInfo": {
     "elapsed": 287,
     "status": "ok",
     "timestamp": 1655903688949,
     "user": {
      "displayName": "김사윤",
      "userId": "07297865092634375505"
     },
     "user_tz": -540
    },
    "id": "w2zMl-6sjQTC",
    "outputId": "673933f6-9463-419f-ed9f-f1a87e98be10"
   },
   "outputs": [
    {
     "data": {
      "text/plain": [
       "False"
      ]
     },
     "execution_count": 166,
     "metadata": {},
     "output_type": "execute_result"
    }
   ],
   "source": [
    "all(a)"
   ]
  },
  {
   "cell_type": "code",
   "execution_count": null,
   "metadata": {
    "colab": {
     "base_uri": "https://localhost:8080/"
    },
    "executionInfo": {
     "elapsed": 301,
     "status": "ok",
     "timestamp": 1655903803768,
     "user": {
      "displayName": "김사윤",
      "userId": "07297865092634375505"
     },
     "user_tz": -540
    },
    "id": "2ou5qOMrjozE",
    "outputId": "ae76eddd-5500-484a-d982-76faaa6b3ce0"
   },
   "outputs": [
    {
     "data": {
      "text/plain": [
       "True"
      ]
     },
     "execution_count": 167,
     "metadata": {},
     "output_type": "execute_result"
    }
   ],
   "source": [
    "#안에 하나라도 true가 있으면 True를 반환. 만약 set이 비어있으면 False를 반환\n",
    "any(a)"
   ]
  },
  {
   "cell_type": "code",
   "execution_count": null,
   "metadata": {
    "colab": {
     "base_uri": "https://localhost:8080/"
    },
    "executionInfo": {
     "elapsed": 322,
     "status": "ok",
     "timestamp": 1655903988323,
     "user": {
      "displayName": "김사윤",
      "userId": "07297865092634375505"
     },
     "user_tz": -540
    },
    "id": "mg7lyokLj9gR",
    "outputId": "91f7e967-ebc1-4802-e854-b314355c7232"
   },
   "outputs": [
    {
     "data": {
      "text/plain": [
       "[(0, False), (1, 1), (2, 2), (3, 3)]"
      ]
     },
     "execution_count": 171,
     "metadata": {},
     "output_type": "execute_result"
    }
   ],
   "source": [
    "#모든 인덱스와 값을 쌍으로 가진 객체를 반환\n",
    "b=list(enumerate(a))\n",
    "b"
   ]
  },
  {
   "cell_type": "code",
   "execution_count": null,
   "metadata": {
    "colab": {
     "base_uri": "https://localhost:8080/"
    },
    "executionInfo": {
     "elapsed": 332,
     "status": "ok",
     "timestamp": 1655910283299,
     "user": {
      "displayName": "김사윤",
      "userId": "07297865092634375505"
     },
     "user_tz": -540
    },
    "id": "h1mIs592kobo",
    "outputId": "0d4c69f5-2505-4f5c-f8cc-98bf39febb25"
   },
   "outputs": [
    {
     "data": {
      "text/plain": [
       "4"
      ]
     },
     "execution_count": 2,
     "metadata": {},
     "output_type": "execute_result"
    }
   ],
   "source": [
    "#길이를 반환\n",
    "len(a)"
   ]
  },
  {
   "cell_type": "code",
   "execution_count": null,
   "metadata": {
    "colab": {
     "base_uri": "https://localhost:8080/"
    },
    "executionInfo": {
     "elapsed": 334,
     "status": "ok",
     "timestamp": 1655910298999,
     "user": {
      "displayName": "김사윤",
      "userId": "07297865092634375505"
     },
     "user_tz": -540
    },
    "id": "089ca0By8b3W",
    "outputId": "7831bdd4-6e13-4aa2-b621-8cd856b1854d"
   },
   "outputs": [
    {
     "data": {
      "text/plain": [
       "3"
      ]
     },
     "execution_count": 3,
     "metadata": {},
     "output_type": "execute_result"
    }
   ],
   "source": [
    "#들어있는 값 중 가장 큰 값 반환\n",
    "max(a)"
   ]
  },
  {
   "cell_type": "code",
   "execution_count": null,
   "metadata": {
    "colab": {
     "base_uri": "https://localhost:8080/"
    },
    "executionInfo": {
     "elapsed": 332,
     "status": "ok",
     "timestamp": 1655910307746,
     "user": {
      "displayName": "김사윤",
      "userId": "07297865092634375505"
     },
     "user_tz": -540
    },
    "id": "FCIhNVM28f6m",
    "outputId": "65e86421-4d0f-4d57-e07f-846ee45c9305"
   },
   "outputs": [
    {
     "data": {
      "text/plain": [
       "False"
      ]
     },
     "execution_count": 4,
     "metadata": {},
     "output_type": "execute_result"
    }
   ],
   "source": [
    "#들어있는 값 중 가장 작은 값 반환\n",
    "min(a)"
   ]
  },
  {
   "cell_type": "code",
   "execution_count": null,
   "metadata": {
    "colab": {
     "base_uri": "https://localhost:8080/"
    },
    "executionInfo": {
     "elapsed": 307,
     "status": "ok",
     "timestamp": 1655910357653,
     "user": {
      "displayName": "김사윤",
      "userId": "07297865092634375505"
     },
     "user_tz": -540
    },
    "id": "-oGWtXPt8kli",
    "outputId": "8faf6572-5310-41fd-8c68-9f758ff56d6a"
   },
   "outputs": [
    {
     "data": {
      "text/plain": [
       "[False, 1, 2, 3]"
      ]
     },
     "execution_count": 5,
     "metadata": {},
     "output_type": "execute_result"
    }
   ],
   "source": [
    "#set의 아이템을 정렬한 새로운 리스트를 반환\n",
    "sorted(a)"
   ]
  },
  {
   "cell_type": "code",
   "execution_count": null,
   "metadata": {
    "colab": {
     "base_uri": "https://localhost:8080/"
    },
    "executionInfo": {
     "elapsed": 323,
     "status": "ok",
     "timestamp": 1655910410492,
     "user": {
      "displayName": "김사윤",
      "userId": "07297865092634375505"
     },
     "user_tz": -540
    },
    "id": "85ZWXn7h8yhs",
    "outputId": "b04601a7-564e-4746-e690-dbebbaf16b32"
   },
   "outputs": [
    {
     "data": {
      "text/plain": [
       "6"
      ]
     },
     "execution_count": 6,
     "metadata": {},
     "output_type": "execute_result"
    }
   ],
   "source": [
    "#아이템의 합 반환\n",
    "sum(a)"
   ]
  },
  {
   "cell_type": "code",
   "execution_count": null,
   "metadata": {
    "id": "wb4v9A_4-Lh0"
   },
   "outputs": [],
   "source": [
    "#set에 아이템을 추가\n",
    "a.add('c')"
   ]
  },
  {
   "cell_type": "code",
   "execution_count": null,
   "metadata": {
    "colab": {
     "base_uri": "https://localhost:8080/"
    },
    "executionInfo": {
     "elapsed": 327,
     "status": "ok",
     "timestamp": 1655910767260,
     "user": {
      "displayName": "김사윤",
      "userId": "07297865092634375505"
     },
     "user_tz": -540
    },
    "id": "BQc1nFOk-RHe",
    "outputId": "0e4bde3c-109b-4d2a-ac40-0fff1034bad3"
   },
   "outputs": [
    {
     "data": {
      "text/plain": [
       "{1, 2, 3, False, 'c'}"
      ]
     },
     "execution_count": 9,
     "metadata": {},
     "output_type": "execute_result"
    }
   ],
   "source": [
    "a"
   ]
  },
  {
   "cell_type": "code",
   "execution_count": null,
   "metadata": {
    "id": "_nvevVZx-Y41"
   },
   "outputs": [],
   "source": [
    "#set을 비움\n",
    "a.clear()"
   ]
  },
  {
   "cell_type": "code",
   "execution_count": null,
   "metadata": {
    "colab": {
     "base_uri": "https://localhost:8080/"
    },
    "executionInfo": {
     "elapsed": 3,
     "status": "ok",
     "timestamp": 1655910809086,
     "user": {
      "displayName": "김사윤",
      "userId": "07297865092634375505"
     },
     "user_tz": -540
    },
    "id": "zugEHNgQ-baU",
    "outputId": "1a12615f-062d-4b65-fced-e003d6d1fc1a"
   },
   "outputs": [
    {
     "data": {
      "text/plain": [
       "set()"
      ]
     },
     "execution_count": 11,
     "metadata": {},
     "output_type": "execute_result"
    }
   ],
   "source": [
    "a"
   ]
  },
  {
   "cell_type": "code",
   "execution_count": null,
   "metadata": {
    "colab": {
     "base_uri": "https://localhost:8080/"
    },
    "executionInfo": {
     "elapsed": 314,
     "status": "ok",
     "timestamp": 1655910841113,
     "user": {
      "displayName": "김사윤",
      "userId": "07297865092634375505"
     },
     "user_tz": -540
    },
    "id": "gsyr5nlB-eNM",
    "outputId": "a1dea0e7-885d-4e6d-94bc-9649a22caa53"
   },
   "outputs": [
    {
     "data": {
      "text/plain": [
       "{1, 2, 3}"
      ]
     },
     "execution_count": 12,
     "metadata": {},
     "output_type": "execute_result"
    }
   ],
   "source": [
    "#set을 복사하여 반환\n",
    "a={1,2,3}\n",
    "a.copy()"
   ]
  },
  {
   "cell_type": "code",
   "execution_count": null,
   "metadata": {
    "colab": {
     "base_uri": "https://localhost:8080/"
    },
    "executionInfo": {
     "elapsed": 318,
     "status": "ok",
     "timestamp": 1655910905516,
     "user": {
      "displayName": "김사윤",
      "userId": "07297865092634375505"
     },
     "user_tz": -540
    },
    "id": "_iv9OF0T-pz5",
    "outputId": "f556bcbd-63f4-4a9c-af58-741568eeb278"
   },
   "outputs": [
    {
     "data": {
      "text/plain": [
       "{1, 2}"
      ]
     },
     "execution_count": 14,
     "metadata": {},
     "output_type": "execute_result"
    }
   ],
   "source": [
    "#차집합을 반환\n",
    "b={3,4,5}\n",
    "a.difference(b)"
   ]
  },
  {
   "cell_type": "code",
   "execution_count": null,
   "metadata": {
    "colab": {
     "base_uri": "https://localhost:8080/"
    },
    "executionInfo": {
     "elapsed": 317,
     "status": "ok",
     "timestamp": 1655910975254,
     "user": {
      "displayName": "김사윤",
      "userId": "07297865092634375505"
     },
     "user_tz": -540
    },
    "id": "Q3cDDwAE_D7Y",
    "outputId": "35c2e25f-c795-4d42-981f-84800f15acde"
   },
   "outputs": [
    {
     "data": {
      "text/plain": [
       "{1, 2, 3}"
      ]
     },
     "execution_count": 15,
     "metadata": {},
     "output_type": "execute_result"
    }
   ],
   "source": [
    "a"
   ]
  },
  {
   "cell_type": "code",
   "execution_count": null,
   "metadata": {
    "id": "a9LAE_OH-_ge"
   },
   "outputs": [],
   "source": [
    "#해당 set에서 주어진 set과의 교집합을 제거\n",
    "a.difference_update(b)"
   ]
  },
  {
   "cell_type": "code",
   "execution_count": null,
   "metadata": {
    "colab": {
     "base_uri": "https://localhost:8080/"
    },
    "executionInfo": {
     "elapsed": 306,
     "status": "ok",
     "timestamp": 1655910995108,
     "user": {
      "displayName": "김사윤",
      "userId": "07297865092634375505"
     },
     "user_tz": -540
    },
    "id": "eMPLyG_M_Iw_",
    "outputId": "fb5de8c0-8df1-4b0f-d335-051cec08501e"
   },
   "outputs": [
    {
     "data": {
      "text/plain": [
       "{1, 2}"
      ]
     },
     "execution_count": 17,
     "metadata": {},
     "output_type": "execute_result"
    }
   ],
   "source": [
    "a"
   ]
  },
  {
   "cell_type": "code",
   "execution_count": null,
   "metadata": {
    "id": "sPRbMGQn_Rsw"
   },
   "outputs": [],
   "source": [
    "#set안에 주어진 값이 있으면 삭제\n",
    "a.discard(2)"
   ]
  },
  {
   "cell_type": "code",
   "execution_count": null,
   "metadata": {
    "colab": {
     "base_uri": "https://localhost:8080/"
    },
    "executionInfo": {
     "elapsed": 2,
     "status": "ok",
     "timestamp": 1655911060469,
     "user": {
      "displayName": "김사윤",
      "userId": "07297865092634375505"
     },
     "user_tz": -540
    },
    "id": "Fdza4gDR_Ywp",
    "outputId": "4652f8d5-efe9-4e93-95dc-2e2ae5ab3283"
   },
   "outputs": [
    {
     "data": {
      "text/plain": [
       "{1}"
      ]
     },
     "execution_count": 19,
     "metadata": {},
     "output_type": "execute_result"
    }
   ],
   "source": [
    "a"
   ]
  },
  {
   "cell_type": "code",
   "execution_count": null,
   "metadata": {
    "colab": {
     "base_uri": "https://localhost:8080/"
    },
    "executionInfo": {
     "elapsed": 317,
     "status": "ok",
     "timestamp": 1655911107000,
     "user": {
      "displayName": "김사윤",
      "userId": "07297865092634375505"
     },
     "user_tz": -540
    },
    "id": "0cuZiSha_c3n",
    "outputId": "4bb331ff-12f4-4d70-d9d9-9aa7a9d50c18"
   },
   "outputs": [
    {
     "data": {
      "text/plain": [
       "{3}"
      ]
     },
     "execution_count": 21,
     "metadata": {},
     "output_type": "execute_result"
    }
   ],
   "source": [
    "#교집합을 반환\n",
    "a={1,2,3}\n",
    "a.intersection(b)"
   ]
  },
  {
   "cell_type": "code",
   "execution_count": null,
   "metadata": {
    "id": "ZYs8vz6I_mdk"
   },
   "outputs": [],
   "source": [
    "#교집합만 남김\n",
    "a.intersection_update(b)"
   ]
  },
  {
   "cell_type": "code",
   "execution_count": null,
   "metadata": {
    "colab": {
     "base_uri": "https://localhost:8080/"
    },
    "executionInfo": {
     "elapsed": 362,
     "status": "ok",
     "timestamp": 1655911153174,
     "user": {
      "displayName": "김사윤",
      "userId": "07297865092634375505"
     },
     "user_tz": -540
    },
    "id": "BsP2rs04_vKn",
    "outputId": "ef544d1c-0775-4426-8b9a-b7d10a21e883"
   },
   "outputs": [
    {
     "data": {
      "text/plain": [
       "{3}"
      ]
     },
     "execution_count": 23,
     "metadata": {},
     "output_type": "execute_result"
    }
   ],
   "source": [
    "a"
   ]
  },
  {
   "cell_type": "code",
   "execution_count": null,
   "metadata": {
    "colab": {
     "base_uri": "https://localhost:8080/"
    },
    "executionInfo": {
     "elapsed": 476,
     "status": "ok",
     "timestamp": 1655911218572,
     "user": {
      "displayName": "김사윤",
      "userId": "07297865092634375505"
     },
     "user_tz": -540
    },
    "id": "1j6Jq4hK_vCA",
    "outputId": "d267cd6b-46d6-49c0-9942-13d7f0d97ad5"
   },
   "outputs": [
    {
     "data": {
      "text/plain": [
       "True"
      ]
     },
     "execution_count": 25,
     "metadata": {},
     "output_type": "execute_result"
    }
   ],
   "source": [
    "##두 set 사이 교집합이 존재하지않으면 True를 반환\n",
    "a={1}\n",
    "a.isdisjoint(b)"
   ]
  },
  {
   "cell_type": "code",
   "execution_count": null,
   "metadata": {
    "colab": {
     "base_uri": "https://localhost:8080/"
    },
    "executionInfo": {
     "elapsed": 3,
     "status": "ok",
     "timestamp": 1655911264590,
     "user": {
      "displayName": "김사윤",
      "userId": "07297865092634375505"
     },
     "user_tz": -540
    },
    "id": "pd1ckJ0YACkO",
    "outputId": "4d29c260-93dc-4932-9376-555980057924"
   },
   "outputs": [
    {
     "data": {
      "text/plain": [
       "True"
      ]
     },
     "execution_count": 27,
     "metadata": {},
     "output_type": "execute_result"
    }
   ],
   "source": [
    "#해당 set이 다른 set에 포함되어있으면 True를 반환\n",
    "a={3}\n",
    "a.issubset(b)"
   ]
  },
  {
   "cell_type": "code",
   "execution_count": null,
   "metadata": {
    "colab": {
     "base_uri": "https://localhost:8080/"
    },
    "executionInfo": {
     "elapsed": 374,
     "status": "ok",
     "timestamp": 1655911326485,
     "user": {
      "displayName": "김사윤",
      "userId": "07297865092634375505"
     },
     "user_tz": -540
    },
    "id": "SUUzfMCuATDJ",
    "outputId": "40d12bbf-273e-49ec-8fca-2c2d9ba8179d"
   },
   "outputs": [
    {
     "data": {
      "text/plain": [
       "True"
      ]
     },
     "execution_count": 29,
     "metadata": {},
     "output_type": "execute_result"
    }
   ],
   "source": [
    "#해당 set이 다른 set을 포함하고 있으면 true를 반환\n",
    "b.issuperset(a)"
   ]
  },
  {
   "cell_type": "code",
   "execution_count": null,
   "metadata": {
    "colab": {
     "base_uri": "https://localhost:8080/"
    },
    "executionInfo": {
     "elapsed": 325,
     "status": "ok",
     "timestamp": 1655911392679,
     "user": {
      "displayName": "김사윤",
      "userId": "07297865092634375505"
     },
     "user_tz": -540
    },
    "id": "8YY4s22pAfdl",
    "outputId": "1287b6f5-2d39-4be8-9092-a5fec421db3f"
   },
   "outputs": [
    {
     "data": {
      "text/plain": [
       "4"
      ]
     },
     "execution_count": 30,
     "metadata": {},
     "output_type": "execute_result"
    }
   ],
   "source": [
    "#set에서 임의의 값을 제거하고 반환\n",
    "a={4,5,6}\n",
    "a.pop()"
   ]
  },
  {
   "cell_type": "code",
   "execution_count": null,
   "metadata": {
    "colab": {
     "base_uri": "https://localhost:8080/"
    },
    "executionInfo": {
     "elapsed": 521,
     "status": "ok",
     "timestamp": 1655911423439,
     "user": {
      "displayName": "김사윤",
      "userId": "07297865092634375505"
     },
     "user_tz": -540
    },
    "id": "PNIsy4yOAxN9",
    "outputId": "435c399b-12a7-41ac-ecc7-27d17c12dbf5"
   },
   "outputs": [
    {
     "data": {
      "text/plain": [
       "{5, 6}"
      ]
     },
     "execution_count": 31,
     "metadata": {},
     "output_type": "execute_result"
    }
   ],
   "source": [
    "a"
   ]
  },
  {
   "cell_type": "code",
   "execution_count": null,
   "metadata": {
    "id": "cJ6MyKxaAtSe"
   },
   "outputs": [],
   "source": [
    "#set에서 특정 값을 제거\n",
    "a.remove(5)"
   ]
  },
  {
   "cell_type": "code",
   "execution_count": null,
   "metadata": {
    "colab": {
     "base_uri": "https://localhost:8080/"
    },
    "executionInfo": {
     "elapsed": 344,
     "status": "ok",
     "timestamp": 1655911429801,
     "user": {
      "displayName": "김사윤",
      "userId": "07297865092634375505"
     },
     "user_tz": -540
    },
    "id": "ixpBXQRQAy2Y",
    "outputId": "e3971533-1373-491e-9b74-f0da65f96d4d"
   },
   "outputs": [
    {
     "data": {
      "text/plain": [
       "{6}"
      ]
     },
     "execution_count": 33,
     "metadata": {},
     "output_type": "execute_result"
    }
   ],
   "source": [
    "a"
   ]
  },
  {
   "cell_type": "code",
   "execution_count": null,
   "metadata": {
    "colab": {
     "base_uri": "https://localhost:8080/"
    },
    "executionInfo": {
     "elapsed": 308,
     "status": "ok",
     "timestamp": 1655911498233,
     "user": {
      "displayName": "김사윤",
      "userId": "07297865092634375505"
     },
     "user_tz": -540
    },
    "id": "VXeqxpXbBDjZ",
    "outputId": "753a481e-06fb-44de-8359-53ec84f3c8ff"
   },
   "outputs": [
    {
     "data": {
      "text/plain": [
       "{3, 4, 5}"
      ]
     },
     "execution_count": 35,
     "metadata": {},
     "output_type": "execute_result"
    }
   ],
   "source": [
    "b"
   ]
  },
  {
   "cell_type": "code",
   "execution_count": null,
   "metadata": {
    "colab": {
     "base_uri": "https://localhost:8080/"
    },
    "executionInfo": {
     "elapsed": 315,
     "status": "ok",
     "timestamp": 1655911538778,
     "user": {
      "displayName": "김사윤",
      "userId": "07297865092634375505"
     },
     "user_tz": -540
    },
    "id": "9Q1yIlxwA6Bp",
    "outputId": "fd868485-9770-4563-d418-6a240a9a9c6e"
   },
   "outputs": [
    {
     "data": {
      "text/plain": [
       "{1, 2, 5, 6}"
      ]
     },
     "execution_count": 36,
     "metadata": {},
     "output_type": "execute_result"
    }
   ],
   "source": [
    "# 두 set의 교집합을 제외한 나머지 여집합으로만 이뤄진 새로운 set을 반환\n",
    "a={1,2,3,4}\n",
    "b={3,4,5,6}\n",
    "a.symmetric_difference(b)"
   ]
  },
  {
   "cell_type": "code",
   "execution_count": null,
   "metadata": {
    "colab": {
     "base_uri": "https://localhost:8080/"
    },
    "executionInfo": {
     "elapsed": 299,
     "status": "ok",
     "timestamp": 1655911579652,
     "user": {
      "displayName": "김사윤",
      "userId": "07297865092634375505"
     },
     "user_tz": -540
    },
    "id": "T2CnbwKgBTYf",
    "outputId": "22e5a79a-095f-4a9b-d6ae-78f88f23b863"
   },
   "outputs": [
    {
     "data": {
      "text/plain": [
       "{1, 2, 5, 6}"
      ]
     },
     "execution_count": 37,
     "metadata": {},
     "output_type": "execute_result"
    }
   ],
   "source": [
    "#두 set의 여집합으로 원래 set을 변경\n",
    "a.symmetric_difference_update(b)\n",
    "a"
   ]
  },
  {
   "cell_type": "code",
   "execution_count": null,
   "metadata": {
    "colab": {
     "base_uri": "https://localhost:8080/"
    },
    "executionInfo": {
     "elapsed": 395,
     "status": "ok",
     "timestamp": 1655911631223,
     "user": {
      "displayName": "김사윤",
      "userId": "07297865092634375505"
     },
     "user_tz": -540
    },
    "id": "38TKlCfFBeW8",
    "outputId": "fda8ddc5-5109-405e-c2a2-764e98183c45"
   },
   "outputs": [
    {
     "data": {
      "text/plain": [
       "{1, 2, 3, 4, 5, 6}"
      ]
     },
     "execution_count": 39,
     "metadata": {},
     "output_type": "execute_result"
    }
   ],
   "source": [
    "#합집합 반환\n",
    "a={1,2,3}\n",
    "b={4,5,6}\n",
    "a.union(b)"
   ]
  },
  {
   "cell_type": "code",
   "execution_count": null,
   "metadata": {
    "colab": {
     "base_uri": "https://localhost:8080/"
    },
    "executionInfo": {
     "elapsed": 350,
     "status": "ok",
     "timestamp": 1655911654050,
     "user": {
      "displayName": "김사윤",
      "userId": "07297865092634375505"
     },
     "user_tz": -540
    },
    "id": "jH88vqC6Bmw1",
    "outputId": "9bde938b-4459-4dbc-b265-bcd7492543a9"
   },
   "outputs": [
    {
     "data": {
      "text/plain": [
       "{1, 2, 3, 4, 5, 6}"
      ]
     },
     "execution_count": 40,
     "metadata": {},
     "output_type": "execute_result"
    }
   ],
   "source": [
    "#원래 set을 두 set의 합집합으로 변경\n",
    "a.update(b)\n",
    "a"
   ]
  },
  {
   "cell_type": "markdown",
   "metadata": {
    "id": "56g9XcVNCvVx"
   },
   "source": [
    "-------------------------------------------------------------------\n",
    "dictionary"
   ]
  },
  {
   "cell_type": "code",
   "execution_count": null,
   "metadata": {
    "id": "0R1KLoqHLCQA"
   },
   "outputs": [],
   "source": [
    "a={1:2,3:4,5:6}"
   ]
  },
  {
   "cell_type": "code",
   "execution_count": null,
   "metadata": {
    "colab": {
     "base_uri": "https://localhost:8080/"
    },
    "executionInfo": {
     "elapsed": 302,
     "status": "ok",
     "timestamp": 1655947708481,
     "user": {
      "displayName": "김사윤",
      "userId": "07297865092634375505"
     },
     "user_tz": -540
    },
    "id": "Ov2wFPdrLIO4",
    "outputId": "589da43c-c88a-45d3-e535-a88a3c17319b"
   },
   "outputs": [
    {
     "data": {
      "text/plain": [
       "{}"
      ]
     },
     "execution_count": 3,
     "metadata": {},
     "output_type": "execute_result"
    }
   ],
   "source": [
    "#dictionary 안을 비움\n",
    "a.clear()\n",
    "a"
   ]
  },
  {
   "cell_type": "code",
   "execution_count": null,
   "metadata": {
    "colab": {
     "base_uri": "https://localhost:8080/"
    },
    "executionInfo": {
     "elapsed": 6,
     "status": "ok",
     "timestamp": 1655947798284,
     "user": {
      "displayName": "김사윤",
      "userId": "07297865092634375505"
     },
     "user_tz": -540
    },
    "id": "Bba0W2gQLQCw",
    "outputId": "dabb4a81-04ea-4f83-8f5b-866a02cf7196"
   },
   "outputs": [
    {
     "data": {
      "text/plain": [
       "{1: 2, 3: 4, 5: 6}"
      ]
     },
     "execution_count": 6,
     "metadata": {},
     "output_type": "execute_result"
    }
   ],
   "source": [
    "#dictionary를 복사\n",
    "a={1:2,3:4,5:6}\n",
    "b=a.copy()\n",
    "b"
   ]
  },
  {
   "cell_type": "code",
   "execution_count": null,
   "metadata": {
    "colab": {
     "base_uri": "https://localhost:8080/"
    },
    "executionInfo": {
     "elapsed": 285,
     "status": "ok",
     "timestamp": 1655947932503,
     "user": {
      "displayName": "김사윤",
      "userId": "07297865092634375505"
     },
     "user_tz": -540
    },
    "id": "oOr8d5YyLcjQ",
    "outputId": "5df8935b-05f2-4a1c-e041-5261df63c9a1"
   },
   "outputs": [
    {
     "data": {
      "text/plain": [
       "{1: {1: 2, 3: 4, 5: 6}, 3: {1: 2, 3: 4, 5: 6}, 5: {1: 2, 3: 4, 5: 6}}"
      ]
     },
     "execution_count": 12,
     "metadata": {},
     "output_type": "execute_result"
    }
   ],
   "source": [
    "#인자로 받은 리스트 등을 이용해 새로운 키값 및 밸류값을 가진 dictionary를 리턴\n",
    "a.fromkeys(b,b)"
   ]
  },
  {
   "cell_type": "code",
   "execution_count": null,
   "metadata": {
    "colab": {
     "base_uri": "https://localhost:8080/"
    },
    "executionInfo": {
     "elapsed": 289,
     "status": "ok",
     "timestamp": 1655948029037,
     "user": {
      "displayName": "김사윤",
      "userId": "07297865092634375505"
     },
     "user_tz": -540
    },
    "id": "MCu50QeOMNnI",
    "outputId": "5baef4a0-5722-4d3c-ff5a-ebda570f7970"
   },
   "outputs": [
    {
     "data": {
      "text/plain": [
       "4"
      ]
     },
     "execution_count": 16,
     "metadata": {},
     "output_type": "execute_result"
    }
   ],
   "source": [
    "#키값을 검색해서 밸류를 리턴\n",
    "a.get(3)"
   ]
  },
  {
   "cell_type": "code",
   "execution_count": null,
   "metadata": {
    "colab": {
     "base_uri": "https://localhost:8080/"
    },
    "executionInfo": {
     "elapsed": 287,
     "status": "ok",
     "timestamp": 1655948072433,
     "user": {
      "displayName": "김사윤",
      "userId": "07297865092634375505"
     },
     "user_tz": -540
    },
    "id": "HCjSn4TAMhFZ",
    "outputId": "0824ca27-873f-4b6d-a8e9-421fe3f4593c"
   },
   "outputs": [
    {
     "data": {
      "text/plain": [
       "dict_items([(1, 2), (3, 4), (5, 6)])"
      ]
     },
     "execution_count": 17,
     "metadata": {},
     "output_type": "execute_result"
    }
   ],
   "source": [
    "#dictionary 안의 값들을 (키, 밸류)의 형태의 아이템을 가진 객체로 반환\n",
    "a.items()"
   ]
  },
  {
   "cell_type": "code",
   "execution_count": null,
   "metadata": {
    "colab": {
     "base_uri": "https://localhost:8080/"
    },
    "executionInfo": {
     "elapsed": 288,
     "status": "ok",
     "timestamp": 1655948182263,
     "user": {
      "displayName": "김사윤",
      "userId": "07297865092634375505"
     },
     "user_tz": -540
    },
    "id": "Bu5FzEtFM8VI",
    "outputId": "510f49e6-853f-4bc3-ed90-925672c15358"
   },
   "outputs": [
    {
     "data": {
      "text/plain": [
       "dict_keys([1, 3, 5])"
      ]
     },
     "execution_count": 22,
     "metadata": {},
     "output_type": "execute_result"
    }
   ],
   "source": [
    "#dictionary의 키값들을 가진 객체를 반환\n",
    "a.keys()"
   ]
  },
  {
   "cell_type": "code",
   "execution_count": null,
   "metadata": {
    "colab": {
     "base_uri": "https://localhost:8080/"
    },
    "executionInfo": {
     "elapsed": 282,
     "status": "ok",
     "timestamp": 1655948242727,
     "user": {
      "displayName": "김사윤",
      "userId": "07297865092634375505"
     },
     "user_tz": -540
    },
    "id": "5-0WvBpxNIKZ",
    "outputId": "a06adf0e-de12-45f5-f4b2-8765d98b54a0"
   },
   "outputs": [
    {
     "data": {
      "text/plain": [
       "6"
      ]
     },
     "execution_count": 23,
     "metadata": {},
     "output_type": "execute_result"
    }
   ],
   "source": [
    "#해당되는 키값의 아이템을 삭제하고 반환\n",
    "a.pop(5)"
   ]
  },
  {
   "cell_type": "code",
   "execution_count": null,
   "metadata": {
    "colab": {
     "base_uri": "https://localhost:8080/"
    },
    "executionInfo": {
     "elapsed": 279,
     "status": "ok",
     "timestamp": 1655948248121,
     "user": {
      "displayName": "김사윤",
      "userId": "07297865092634375505"
     },
     "user_tz": -540
    },
    "id": "cEZISuEtNPgU",
    "outputId": "aae42cda-6dff-4df2-8a3d-b0312302817f"
   },
   "outputs": [
    {
     "data": {
      "text/plain": [
       "{1: 2, 3: 4}"
      ]
     },
     "execution_count": 24,
     "metadata": {},
     "output_type": "execute_result"
    }
   ],
   "source": [
    "a"
   ]
  },
  {
   "cell_type": "code",
   "execution_count": null,
   "metadata": {
    "colab": {
     "base_uri": "https://localhost:8080/"
    },
    "executionInfo": {
     "elapsed": 278,
     "status": "ok",
     "timestamp": 1655948304482,
     "user": {
      "displayName": "김사윤",
      "userId": "07297865092634375505"
     },
     "user_tz": -540
    },
    "id": "t7Hb9aDJNUzJ",
    "outputId": "e262aa7c-0f0e-4285-aa3b-bbb9c47dd4b3"
   },
   "outputs": [
    {
     "data": {
      "text/plain": [
       "(1, 2)"
      ]
     },
     "execution_count": 26,
     "metadata": {},
     "output_type": "execute_result"
    }
   ],
   "source": [
    "#dictionary에서 임의의 값을 삭제하고 반환\n",
    "a.popitem()\n",
    "a.popitem()"
   ]
  },
  {
   "cell_type": "code",
   "execution_count": null,
   "metadata": {
    "colab": {
     "base_uri": "https://localhost:8080/"
    },
    "executionInfo": {
     "elapsed": 277,
     "status": "ok",
     "timestamp": 1655948491358,
     "user": {
      "displayName": "김사윤",
      "userId": "07297865092634375505"
     },
     "user_tz": -540
    },
    "id": "QCJpWF49Nl6K",
    "outputId": "ba535e22-a05d-419d-c700-d04f5d941a2e"
   },
   "outputs": [
    {
     "data": {
      "text/plain": [
       "{7: None}"
      ]
     },
     "execution_count": 34,
     "metadata": {},
     "output_type": "execute_result"
    }
   ],
   "source": [
    "#키값을 탐색하여 해당하는 밸류 값을 반환. 키값이 없으면 해당 키값을 삽입하고 밸류에 None을 할당 \n",
    "a.setdefault(7)\n",
    "a"
   ]
  },
  {
   "cell_type": "code",
   "execution_count": 4,
   "metadata": {
    "colab": {
     "base_uri": "https://localhost:8080/"
    },
    "executionInfo": {
     "elapsed": 6,
     "status": "ok",
     "timestamp": 1655955220774,
     "user": {
      "displayName": "김사윤",
      "userId": "07297865092634375505"
     },
     "user_tz": -540
    },
    "id": "hejZ_UffOK90",
    "outputId": "f89a0dfe-f5ee-41b4-c5c5-6798d1bf9756"
   },
   "outputs": [
    {
     "data": {
      "text/plain": [
       "{1: 2, 3: 4, 5: 6, 7: 8}"
      ]
     },
     "execution_count": 4,
     "metadata": {},
     "output_type": "execute_result"
    }
   ],
   "source": [
    "#다른 dictionary로 dictionary를 업데이트함. 이미 존재하는 키의 경우 기존의 밸류를 다른 dictionary의 값으로 덮어씌움\n",
    "b={1:2,3:4,5:6,7:8}\n",
    "a.update(b)\n",
    "a"
   ]
  },
  {
   "cell_type": "code",
   "execution_count": 5,
   "metadata": {
    "colab": {
     "base_uri": "https://localhost:8080/"
    },
    "executionInfo": {
     "elapsed": 308,
     "status": "ok",
     "timestamp": 1655955226639,
     "user": {
      "displayName": "김사윤",
      "userId": "07297865092634375505"
     },
     "user_tz": -540
    },
    "id": "0z68zxe0Oqs2",
    "outputId": "664527cc-95d8-40a8-c41c-b0e44273d1b0"
   },
   "outputs": [
    {
     "data": {
      "text/plain": [
       "True"
      ]
     },
     "execution_count": 5,
     "metadata": {},
     "output_type": "execute_result"
    }
   ],
   "source": [
    "any(a)"
   ]
  },
  {
   "cell_type": "code",
   "execution_count": 9,
   "metadata": {
    "colab": {
     "base_uri": "https://localhost:8080/"
    },
    "executionInfo": {
     "elapsed": 290,
     "status": "ok",
     "timestamp": 1655955386883,
     "user": {
      "displayName": "김사윤",
      "userId": "07297865092634375505"
     },
     "user_tz": -540
    },
    "id": "SQpxn4RUoWGc",
    "outputId": "6c55a9ab-6dff-45a0-c54e-0561aa4e0e77"
   },
   "outputs": [
    {
     "data": {
      "text/plain": [
       "[1, 3, 5, 7]"
      ]
     },
     "execution_count": 9,
     "metadata": {},
     "output_type": "execute_result"
    }
   ],
   "source": [
    "sorted(a)"
   ]
  },
  {
   "cell_type": "markdown",
   "metadata": {
    "id": "KWlUD_hkCx8c"
   },
   "source": [
    "--------------------------------------------------------------------\n",
    "tuple"
   ]
  },
  {
   "cell_type": "code",
   "execution_count": null,
   "metadata": {
    "colab": {
     "base_uri": "https://localhost:8080/"
    },
    "executionInfo": {
     "elapsed": 301,
     "status": "ok",
     "timestamp": 1655911864296,
     "user": {
      "displayName": "김사윤",
      "userId": "07297865092634375505"
     },
     "user_tz": -540
    },
    "id": "CUVq60B9CG0n",
    "outputId": "b35efe5d-cd7f-4244-b102-ee4f9477e6ac"
   },
   "outputs": [
    {
     "data": {
      "text/plain": [
       "4"
      ]
     },
     "execution_count": 47,
     "metadata": {},
     "output_type": "execute_result"
    }
   ],
   "source": [
    "#해당 값의 포함된 갯수 출력\n",
    "(1,2,3,2,3,3,1,1,1).count(1)"
   ]
  },
  {
   "cell_type": "code",
   "execution_count": null,
   "metadata": {
    "colab": {
     "base_uri": "https://localhost:8080/"
    },
    "executionInfo": {
     "elapsed": 321,
     "status": "ok",
     "timestamp": 1655912008730,
     "user": {
      "displayName": "김사윤",
      "userId": "07297865092634375505"
     },
     "user_tz": -540
    },
    "id": "c8QOPxGlCfHe",
    "outputId": "72583374-e261-4ced-9400-f70a180d4e6d"
   },
   "outputs": [
    {
     "data": {
      "text/plain": [
       "0"
      ]
     },
     "execution_count": 53,
     "metadata": {},
     "output_type": "execute_result"
    }
   ],
   "source": [
    "#해당 값이 위치한 인덱스 출력\n",
    "(1,2,3).index(1)"
   ]
  }
 ],
 "metadata": {
  "colab": {
   "authorship_tag": "ABX9TyPNm/JE+HSOCDnFB/Nll+jP",
   "collapsed_sections": [],
   "name": "math, random, list, tuple, dic, set 김사윤.ipynb",
   "provenance": []
  },
  "kernelspec": {
   "display_name": "Python 3 (ipykernel)",
   "language": "python",
   "name": "python3"
  },
  "language_info": {
   "codemirror_mode": {
    "name": "ipython",
    "version": 3
   },
   "file_extension": ".py",
   "mimetype": "text/x-python",
   "name": "python",
   "nbconvert_exporter": "python",
   "pygments_lexer": "ipython3",
   "version": "3.9.12"
  }
 },
 "nbformat": 4,
 "nbformat_minor": 1
}
