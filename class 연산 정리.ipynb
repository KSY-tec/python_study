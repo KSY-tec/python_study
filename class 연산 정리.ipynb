{
 "cells": [
  {
   "cell_type": "code",
   "execution_count": 56,
   "metadata": {
    "executionInfo": {
     "elapsed": 444,
     "status": "ok",
     "timestamp": 1655957431995,
     "user": {
      "displayName": "김사윤",
      "userId": "07297865092634375505"
     },
     "user_tz": -540
    },
    "id": "-kBV1fwIo87A"
   },
   "outputs": [],
   "source": [
    "class Point:\n",
    "  def __init__(self, x=0, y=0):\n",
    "      self.x=x\n",
    "      self.y=y\n",
    "  \n",
    "  def __str__(self):\n",
    "      return \"({0},{1})\".format(self.x, self.y)\n",
    "#연산자 오버로딩 \n",
    "#객체 더하기\n",
    "  def __add__(self,other):\n",
    "    x=self.x+other.x\n",
    "    y=self.y+other.y\n",
    "    return Point(x,y)\n",
    "#객체 뺴기\n",
    "  def __sub__(self,other):\n",
    "    x=self.x-other.x\n",
    "    y=self.y-other.y\n",
    "    return Point(x,y)\n",
    "#객체 곱하기\n",
    "  def __mul__(self,other):\n",
    "    x=self.x*other.x\n",
    "    y=self.y*other.y\n",
    "    return Point(x,y)\n",
    "#객체 제곱\n",
    "  def __pow__(self, other):\n",
    "    x=self.x**other.x\n",
    "    y=self.y**other.y\n",
    "    return Point(x,y)\n",
    "#객체 나누기\n",
    "  def __truediv__(self, other):\n",
    "    x=self.x/other.x\n",
    "    y=self.y/other.y\n",
    "    return Point(x,y)\n",
    "#객체 몫 구하기\n",
    "  def __floordiv__(self,other):\n",
    "    x=self.x//other.x\n",
    "    y=self.y//other.y\n",
    "    return Point(x,y)\n",
    "#객체 나머지\n",
    "  def __mod__(self,other):\n",
    "    x=self.x%other.x\n",
    "    y=self.y%other.y\n",
    "    return Point(x,y)\n",
    "#비트 왼쪽 시프트\n",
    "  def __lshift__(self,other):\n",
    "    x= self.x << other.x\n",
    "    y= self.y << other.y\n",
    "    return Point(x,y)\n",
    "#비트 오른쪽 시프트\n",
    "  def __rshift__(self,other):\n",
    "    x= self.x >> other.x\n",
    "    y= self.y >> other.y\n",
    "    return Point(x,y)\n",
    "#비트 연산자 AND\n",
    "  def __and__(self,other):\n",
    "    x=self.x&other.x\n",
    "    y=self.y&other.y\n",
    "    return Point(x,y)\n",
    "#비트 연산자 OR\n",
    "  def __or__(self,other):\n",
    "    x=self.x|other.x\n",
    "    y=self.y|other.y\n",
    "    return Point(x,y)\n",
    "#비트 연산자 XOR\n",
    "  def __xor__(self,other):\n",
    "    x=self.x^other.x\n",
    "    y=self.y^other.y\n",
    "    return Point(x,y)\n",
    "#비트 연산자 NOT\n",
    "  def __invert__(self):\n",
    "    x=~self.x\n",
    "    y=~self.y\n",
    "    return Point(x,y)\n",
    "#비교연산자 미만\n",
    "  def __lt__(self,other):\n",
    "    x=self.x<other.x\n",
    "    y=self.y<other.y\n",
    "    return Point(x,y)\n",
    "#비교연산자 이하\n",
    "  def __le__(self,other):\n",
    "    x=self.x<=other.x\n",
    "    y=self.y<=other.y\n",
    "    return Point(x,y)\n",
    "#비교연산자 같음\n",
    "  def __eq__(self,other):\n",
    "    x=self.x==other.x\n",
    "    y=self.y==other.y\n",
    "    return Point(x,y)\n",
    "#비교연산자 같지않음\n",
    "  def __ne__(self,other):\n",
    "    x=self.x!=other.x\n",
    "    y=self.y!=other.y\n",
    "    return Point(x,y)\n",
    "#비교연산자 초과\n",
    "  def __gt__(self,other):\n",
    "    x=self.x>other.x\n",
    "    y=self.y>other.y\n",
    "    return Point(x,y)\n",
    "#비교연산자 이상\n",
    "  def __ge__(self,other):\n",
    "    x=self.x>=other.x\n",
    "    y=self.y>=other.y\n",
    "    return Point(x,y)"
   ]
  },
  {
   "cell_type": "code",
   "execution_count": 58,
   "metadata": {
    "executionInfo": {
     "elapsed": 437,
     "status": "ok",
     "timestamp": 1655957440242,
     "user": {
      "displayName": "김사윤",
      "userId": "07297865092634375505"
     },
     "user_tz": -540
    },
    "id": "A50bm09Fpem8"
   },
   "outputs": [],
   "source": [
    "a=Point(10,10)\n",
    "b=Point(2,2)"
   ]
  },
  {
   "cell_type": "code",
   "execution_count": 36,
   "metadata": {
    "colab": {
     "base_uri": "https://localhost:8080/"
    },
    "executionInfo": {
     "elapsed": 5,
     "status": "ok",
     "timestamp": 1655957093844,
     "user": {
      "displayName": "김사윤",
      "userId": "07297865092634375505"
     },
     "user_tz": -540
    },
    "id": "TEaG5Nx1purf",
    "outputId": "4a493cac-c871-4d8f-a10e-54d25e026ff6"
   },
   "outputs": [
    {
     "name": "stdout",
     "output_type": "stream",
     "text": [
      "(10,10)\n",
      "(2,2)\n"
     ]
    }
   ],
   "source": [
    "print(a)\n",
    "print(b)"
   ]
  },
  {
   "cell_type": "code",
   "execution_count": 37,
   "metadata": {
    "colab": {
     "base_uri": "https://localhost:8080/"
    },
    "executionInfo": {
     "elapsed": 3,
     "status": "ok",
     "timestamp": 1655957094425,
     "user": {
      "displayName": "김사윤",
      "userId": "07297865092634375505"
     },
     "user_tz": -540
    },
    "id": "7VLbvolIs3DE",
    "outputId": "4146f5dc-017e-4faa-ff15-9dc2f5c591bb"
   },
   "outputs": [
    {
     "name": "stdout",
     "output_type": "stream",
     "text": [
      "(12,12)\n"
     ]
    }
   ],
   "source": [
    "#객체간 더하기\n",
    "print(a+b)"
   ]
  },
  {
   "cell_type": "code",
   "execution_count": 38,
   "metadata": {
    "colab": {
     "base_uri": "https://localhost:8080/"
    },
    "executionInfo": {
     "elapsed": 2,
     "status": "ok",
     "timestamp": 1655957095409,
     "user": {
      "displayName": "김사윤",
      "userId": "07297865092634375505"
     },
     "user_tz": -540
    },
    "id": "zinzQBKouXil",
    "outputId": "6e3963bb-077b-4681-b5c9-ef97d25e87d7"
   },
   "outputs": [
    {
     "name": "stdout",
     "output_type": "stream",
     "text": [
      "(8,8)\n"
     ]
    }
   ],
   "source": [
    "#객체간 빼기\n",
    "print(a-b)"
   ]
  },
  {
   "cell_type": "code",
   "execution_count": 39,
   "metadata": {
    "colab": {
     "base_uri": "https://localhost:8080/"
    },
    "executionInfo": {
     "elapsed": 522,
     "status": "ok",
     "timestamp": 1655957096725,
     "user": {
      "displayName": "김사윤",
      "userId": "07297865092634375505"
     },
     "user_tz": -540
    },
    "id": "o2P6v1qeuicM",
    "outputId": "aca97435-2afd-402d-8e52-eca9f2bc1e28"
   },
   "outputs": [
    {
     "name": "stdout",
     "output_type": "stream",
     "text": [
      "(20,20)\n"
     ]
    }
   ],
   "source": [
    "#객체간 곱하기\n",
    "print(a*b)"
   ]
  },
  {
   "cell_type": "code",
   "execution_count": 40,
   "metadata": {
    "colab": {
     "base_uri": "https://localhost:8080/"
    },
    "executionInfo": {
     "elapsed": 4,
     "status": "ok",
     "timestamp": 1655957097166,
     "user": {
      "displayName": "김사윤",
      "userId": "07297865092634375505"
     },
     "user_tz": -540
    },
    "id": "FMsUS0hiuoNz",
    "outputId": "fe2ed891-2e05-4783-bb6f-baf1c0a4b7ed"
   },
   "outputs": [
    {
     "name": "stdout",
     "output_type": "stream",
     "text": [
      "(5.0,5.0)\n"
     ]
    }
   ],
   "source": [
    "#객체간 나누기\n",
    "print(a/b)"
   ]
  },
  {
   "cell_type": "code",
   "execution_count": 41,
   "metadata": {
    "colab": {
     "base_uri": "https://localhost:8080/"
    },
    "executionInfo": {
     "elapsed": 4,
     "status": "ok",
     "timestamp": 1655957098068,
     "user": {
      "displayName": "김사윤",
      "userId": "07297865092634375505"
     },
     "user_tz": -540
    },
    "id": "ri1lIVWYuxbM",
    "outputId": "e34dc4dd-e3f5-4845-c4f3-01ad5a14cdde"
   },
   "outputs": [
    {
     "name": "stdout",
     "output_type": "stream",
     "text": [
      "(5,5)\n"
     ]
    }
   ],
   "source": [
    "#객체간 나눈 후 몫\n",
    "print(a//b)"
   ]
  },
  {
   "cell_type": "code",
   "execution_count": 42,
   "metadata": {
    "colab": {
     "base_uri": "https://localhost:8080/"
    },
    "executionInfo": {
     "elapsed": 445,
     "status": "ok",
     "timestamp": 1655957113275,
     "user": {
      "displayName": "김사윤",
      "userId": "07297865092634375505"
     },
     "user_tz": -540
    },
    "id": "92C3Jiyeu6Dz",
    "outputId": "9a0f70a2-98b8-47f1-9989-b8f9ce8b5fe0"
   },
   "outputs": [
    {
     "name": "stdout",
     "output_type": "stream",
     "text": [
      "(0,0)\n"
     ]
    }
   ],
   "source": [
    "#객체 간 나눈 후 나머지\n",
    "print(a%b)"
   ]
  },
  {
   "cell_type": "code",
   "execution_count": 43,
   "metadata": {
    "colab": {
     "base_uri": "https://localhost:8080/"
    },
    "executionInfo": {
     "elapsed": 6,
     "status": "ok",
     "timestamp": 1655957152891,
     "user": {
      "displayName": "김사윤",
      "userId": "07297865092634375505"
     },
     "user_tz": -540
    },
    "id": "RqNNK0aovFFc",
    "outputId": "156f84e3-844f-4232-8de0-23da0d456b68"
   },
   "outputs": [
    {
     "name": "stdout",
     "output_type": "stream",
     "text": [
      "(100,100)\n"
     ]
    }
   ],
   "source": [
    "#객체 간 제곱\n",
    "print(a**b)"
   ]
  },
  {
   "cell_type": "code",
   "execution_count": 51,
   "metadata": {
    "colab": {
     "base_uri": "https://localhost:8080/"
    },
    "executionInfo": {
     "elapsed": 455,
     "status": "ok",
     "timestamp": 1655957372316,
     "user": {
      "displayName": "김사윤",
      "userId": "07297865092634375505"
     },
     "user_tz": -540
    },
    "id": "-QtNpiOMvOy8",
    "outputId": "d442acd1-fdaf-44f2-8997-fee76e625a45"
   },
   "outputs": [
    {
     "name": "stdout",
     "output_type": "stream",
     "text": [
      "(40,40)\n"
     ]
    }
   ],
   "source": [
    "#비트 왼쪽이동\n",
    "print(a<<b)"
   ]
  },
  {
   "cell_type": "code",
   "execution_count": 59,
   "metadata": {
    "colab": {
     "base_uri": "https://localhost:8080/"
    },
    "executionInfo": {
     "elapsed": 433,
     "status": "ok",
     "timestamp": 1655957442701,
     "user": {
      "displayName": "김사윤",
      "userId": "07297865092634375505"
     },
     "user_tz": -540
    },
    "id": "feDzEXzuwF8j",
    "outputId": "6eeb4020-d837-4ea0-dd56-a72673258e67"
   },
   "outputs": [
    {
     "name": "stdout",
     "output_type": "stream",
     "text": [
      "(2,2)\n"
     ]
    }
   ],
   "source": [
    "#비트 오른쪽 이동\n",
    "print(a>>b)"
   ]
  },
  {
   "cell_type": "code",
   "execution_count": 61,
   "metadata": {
    "colab": {
     "base_uri": "https://localhost:8080/"
    },
    "executionInfo": {
     "elapsed": 9,
     "status": "ok",
     "timestamp": 1655957492698,
     "user": {
      "displayName": "김사윤",
      "userId": "07297865092634375505"
     },
     "user_tz": -540
    },
    "id": "4SAlhf2_weeC",
    "outputId": "3d3f5b64-0cec-4eae-eb09-8dd5197258e5"
   },
   "outputs": [
    {
     "name": "stdout",
     "output_type": "stream",
     "text": [
      "(2,2)\n"
     ]
    }
   ],
   "source": [
    "#비트 AND\n",
    "print(a&b)"
   ]
  },
  {
   "cell_type": "code",
   "execution_count": 60,
   "metadata": {
    "colab": {
     "base_uri": "https://localhost:8080/"
    },
    "executionInfo": {
     "elapsed": 576,
     "status": "ok",
     "timestamp": 1655957478603,
     "user": {
      "displayName": "김사윤",
      "userId": "07297865092634375505"
     },
     "user_tz": -540
    },
    "id": "sBOw85g9wWuL",
    "outputId": "f6fd74ac-e606-4785-d259-98726f87a023"
   },
   "outputs": [
    {
     "name": "stdout",
     "output_type": "stream",
     "text": [
      "(10,10)\n"
     ]
    }
   ],
   "source": [
    "#비트 or\n",
    "print(a|b)"
   ]
  },
  {
   "cell_type": "code",
   "execution_count": 62,
   "metadata": {
    "colab": {
     "base_uri": "https://localhost:8080/"
    },
    "executionInfo": {
     "elapsed": 460,
     "status": "ok",
     "timestamp": 1655957520590,
     "user": {
      "displayName": "김사윤",
      "userId": "07297865092634375505"
     },
     "user_tz": -540
    },
    "id": "WhxPMU5vwhn6",
    "outputId": "f760d1d7-13c8-4c11-e852-19eae15596f1"
   },
   "outputs": [
    {
     "name": "stdout",
     "output_type": "stream",
     "text": [
      "(8,8)\n"
     ]
    }
   ],
   "source": [
    "#비트 XOR\n",
    "print(a^b)"
   ]
  },
  {
   "cell_type": "code",
   "execution_count": 63,
   "metadata": {
    "colab": {
     "base_uri": "https://localhost:8080/"
    },
    "executionInfo": {
     "elapsed": 464,
     "status": "ok",
     "timestamp": 1655957538272,
     "user": {
      "displayName": "김사윤",
      "userId": "07297865092634375505"
     },
     "user_tz": -540
    },
    "id": "UPSgQdM4wpez",
    "outputId": "2b331512-0750-4a5c-c7bb-cfab4d05fdab"
   },
   "outputs": [
    {
     "name": "stdout",
     "output_type": "stream",
     "text": [
      "(-11,-11)\n"
     ]
    }
   ],
   "source": [
    "#비트 NOT\n",
    "print(~a)"
   ]
  },
  {
   "cell_type": "code",
   "execution_count": 64,
   "metadata": {
    "colab": {
     "base_uri": "https://localhost:8080/"
    },
    "executionInfo": {
     "elapsed": 8,
     "status": "ok",
     "timestamp": 1655959848511,
     "user": {
      "displayName": "김사윤",
      "userId": "07297865092634375505"
     },
     "user_tz": -540
    },
    "id": "KIO3O-FP5exb",
    "outputId": "401853a3-8972-4250-f7f7-1870d8cb9cb4"
   },
   "outputs": [
    {
     "name": "stdout",
     "output_type": "stream",
     "text": [
      "(True,True)\n"
     ]
    }
   ],
   "source": [
    "#비교연산자 초과\n",
    "print(a>b)"
   ]
  },
  {
   "cell_type": "code",
   "execution_count": 66,
   "metadata": {
    "colab": {
     "base_uri": "https://localhost:8080/"
    },
    "executionInfo": {
     "elapsed": 4,
     "status": "ok",
     "timestamp": 1655959899580,
     "user": {
      "displayName": "김사윤",
      "userId": "07297865092634375505"
     },
     "user_tz": -540
    },
    "id": "AXVrOOWk5omb",
    "outputId": "f0a5caa0-6dad-4a2a-9088-a07d886cef69"
   },
   "outputs": [
    {
     "name": "stdout",
     "output_type": "stream",
     "text": [
      "(True,True)\n"
     ]
    }
   ],
   "source": [
    "#비교연산자 이상\n",
    "print(a>=b)"
   ]
  },
  {
   "cell_type": "code",
   "execution_count": 65,
   "metadata": {
    "colab": {
     "base_uri": "https://localhost:8080/"
    },
    "executionInfo": {
     "elapsed": 457,
     "status": "ok",
     "timestamp": 1655959856907,
     "user": {
      "displayName": "김사윤",
      "userId": "07297865092634375505"
     },
     "user_tz": -540
    },
    "id": "ug7mkziS5gzi",
    "outputId": "aaa3c77a-cbf1-4fea-d101-d8b1862c2166"
   },
   "outputs": [
    {
     "name": "stdout",
     "output_type": "stream",
     "text": [
      "(False,False)\n"
     ]
    }
   ],
   "source": [
    "#비교연산자 미만\n",
    "print(a<b)"
   ]
  },
  {
   "cell_type": "code",
   "execution_count": 67,
   "metadata": {
    "colab": {
     "base_uri": "https://localhost:8080/"
    },
    "executionInfo": {
     "elapsed": 5,
     "status": "ok",
     "timestamp": 1655959913590,
     "user": {
      "displayName": "김사윤",
      "userId": "07297865092634375505"
     },
     "user_tz": -540
    },
    "id": "VZ524prC5tkz",
    "outputId": "0cf7fac2-b2c3-4348-fe63-0efa20d31d33"
   },
   "outputs": [
    {
     "name": "stdout",
     "output_type": "stream",
     "text": [
      "(False,False)\n"
     ]
    }
   ],
   "source": [
    "#비교연산자 이하\n",
    "print(a<=b)"
   ]
  },
  {
   "cell_type": "code",
   "execution_count": 68,
   "metadata": {
    "colab": {
     "base_uri": "https://localhost:8080/"
    },
    "executionInfo": {
     "elapsed": 450,
     "status": "ok",
     "timestamp": 1655959924039,
     "user": {
      "displayName": "김사윤",
      "userId": "07297865092634375505"
     },
     "user_tz": -540
    },
    "id": "_TunkxbE5xNb",
    "outputId": "601e8dd6-0a05-4f7b-db43-e826debd6e37"
   },
   "outputs": [
    {
     "name": "stdout",
     "output_type": "stream",
     "text": [
      "(False,False)\n"
     ]
    }
   ],
   "source": [
    "#비교연산자 같음\n",
    "print(a==b)"
   ]
  },
  {
   "cell_type": "code",
   "execution_count": 69,
   "metadata": {
    "colab": {
     "base_uri": "https://localhost:8080/"
    },
    "executionInfo": {
     "elapsed": 439,
     "status": "ok",
     "timestamp": 1655959940954,
     "user": {
      "displayName": "김사윤",
      "userId": "07297865092634375505"
     },
     "user_tz": -540
    },
    "id": "-1f5DwlD50dq",
    "outputId": "b962e62d-2654-493d-f113-ea88b56bb4c5"
   },
   "outputs": [
    {
     "name": "stdout",
     "output_type": "stream",
     "text": [
      "(True,True)\n"
     ]
    }
   ],
   "source": [
    "#비교연산자 같지 않음\n",
    "print(a!=b)"
   ]
  }
 ],
 "metadata": {
  "colab": {
   "authorship_tag": "ABX9TyOcXedBpDFJ8aqy5ppS7PF+",
   "collapsed_sections": [],
   "name": "클래스 특수함수 김사윤.ipynb",
   "provenance": []
  },
  "kernelspec": {
   "display_name": "Python 3 (ipykernel)",
   "language": "python",
   "name": "python3"
  },
  "language_info": {
   "codemirror_mode": {
    "name": "ipython",
    "version": 3
   },
   "file_extension": ".py",
   "mimetype": "text/x-python",
   "name": "python",
   "nbconvert_exporter": "python",
   "pygments_lexer": "ipython3",
   "version": "3.9.12"
  }
 },
 "nbformat": 4,
 "nbformat_minor": 1
}
